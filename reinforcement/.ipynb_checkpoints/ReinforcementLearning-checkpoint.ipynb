{
 "cells": [
  {
   "cell_type": "code",
   "execution_count": 1,
   "metadata": {
    "colab": {
     "base_uri": "https://localhost:8080/",
     "height": 595
    },
    "colab_type": "code",
    "id": "CYatltmqFJ3Y",
    "outputId": "e628ff74-a970-4958-dfce-65282b659587"
   },
   "outputs": [],
   "source": [
    "# !pip install gym[atari]\n",
    "# !pip install gym[Box2D]"
   ]
  },
  {
   "cell_type": "code",
   "execution_count": 2,
   "metadata": {
    "colab": {},
    "colab_type": "code",
    "id": "Q9-ddacAcoBe"
   },
   "outputs": [
    {
     "name": "stderr",
     "output_type": "stream",
     "text": [
      "/home/armughan/anaconda3/envs/py3.6/lib/python3.6/site-packages/h5py/__init__.py:36: FutureWarning: Conversion of the second argument of issubdtype from `float` to `np.floating` is deprecated. In future, it will be treated as `np.float64 == np.dtype(float).type`.\n",
      "  from ._conv import register_converters as _register_converters\n",
      "Using TensorFlow backend.\n"
     ]
    }
   ],
   "source": [
    "import numpy as np\n",
    "import pandas as pd\n",
    "import matplotlib.pyplot as plt\n",
    "import time\n",
    "import gym\n",
    "# import universe\n",
    "from skimage import io\n",
    "from skimage.color import rgb2gray\n",
    "from skimage import transform\n",
    "from collections import deque# Ordered collection with ends\n",
    "import tensorflow as tf\n",
    "import keras.layers as layers\n",
    "from keras.models import Model as keras_model\n",
    "from keras import backend as KB\n",
    "import keras.optimizers as KO\n",
    "import random\n",
    "import os\n",
    "import sys"
   ]
  },
  {
   "cell_type": "code",
   "execution_count": 3,
   "metadata": {},
   "outputs": [],
   "source": [
    "ROOTDIR=os.path.abspath(\"../\")\n",
    "sys.path.append(ROOTDIR)"
   ]
  },
  {
   "cell_type": "code",
   "execution_count": 4,
   "metadata": {},
   "outputs": [],
   "source": [
    "from utils.BaseModel import BaseModel\n",
    "from utils.tools import construct_model_from_csv\n"
   ]
  },
  {
   "cell_type": "code",
   "execution_count": 5,
   "metadata": {
    "colab": {},
    "colab_type": "code",
    "id": "rKsFfdCIEDj9"
   },
   "outputs": [],
   "source": [
    "class Frame_Processor:\n",
    "    def __init__(self,crop=True,convert_to_grayscale=True,normalize=True,coords={},resize=True,resize_y=None,resize_x=None):\n",
    "        self.crop=crop\n",
    "        self.top_left_x=coords.get('top_left_x',0)\n",
    "        self.top_left_y=coords.get('top_left_y',0)\n",
    "        self.bottom_right_x=coords.get('bottom_right_x',-1)\n",
    "        self.bottom_right_y=coords.get('bottom_right_y',-1)\n",
    "        self.convert_to_grayscale=convert_to_grayscale\n",
    "        self.normalize=normalize\n",
    "        self.resize=resize\n",
    "        self.resize_x=resize_x\n",
    "        self.resize_y=resize_y\n",
    "\n",
    "    def process_frame(self,frame):\n",
    "        if self.convert_to_grayscale:\n",
    "            frame=rgb2gray(frame)\n",
    "        if self.crop:\n",
    "            frame=frame[self.top_left_y:self.bottom_right_y,self.top_left_x:self.bottom_right_x]\n",
    "        if self.normalize:\n",
    "            frame=frame/255.0\n",
    "        if self.resize:\n",
    "            frame=transform.resize(frame, [self.resize_y,self.resize_x])\n",
    "        return frame\n",
    "      \n",
    "    \n"
   ]
  },
  {
   "cell_type": "code",
   "execution_count": 6,
   "metadata": {
    "colab": {},
    "colab_type": "code",
    "id": "Emq1p_z47ulS"
   },
   "outputs": [],
   "source": [
    "crop_coords={\"top_left_x\":4,\"top_left_y\":8,\"bottom_right_x\":-12,\"bottom_right_y\":-12}\n",
    "\n",
    "FP=Frame_Processor(crop=True,convert_to_grayscale=True,normalize=True,coords=crop_coords,resize=True,resize_y=110,resize_x=84)\n"
   ]
  },
  {
   "cell_type": "code",
   "execution_count": 7,
   "metadata": {
    "colab": {},
    "colab_type": "code",
    "id": "19-n_0g7IyNp"
   },
   "outputs": [],
   "source": [
    "class Environment:  \n",
    "    def __init__(self,env_name,frameProcessor):\n",
    "        self.num_frames_to_stack=4\n",
    "        self.env = gym.make(env_name)\n",
    "        print(\"The size of our frame is: \", self.env.observation_space)\n",
    "        print(\"The action size is : \", self.env.action_space.n)\n",
    "        self.possible_actions=self.env.action_space.n\n",
    "        self.curr_state=None\n",
    "        self.frameProcessor=frameProcessor\n",
    "        self.reset()\n",
    "        self.obs_shape=self.curr_state.shape\n",
    "        self.num_actions=self.env.action_space.n\n",
    "    \n",
    "    def stack_frames(self,frame,previous_frames,new_episode=False):\n",
    "    #stacking frames\n",
    "        if not new_episode:\n",
    "            stacked_frames=np.concatenate((np.expand_dims(frame,axis=-1),previous_frames[:,:,:-1]),axis=-1)\n",
    "        else:\n",
    "            stacked_frames=np.repeat(np.expand_dims(frame,axis=-1),self.num_frames_to_stack,axis=-1)\n",
    "    \n",
    "        assert ((stacked_frames.shape)[-1]==self.num_frames_to_stack),\"number of frames stacked is not valid\"\n",
    "\n",
    "        return stacked_frames\n",
    "    \n",
    "    def step(self,action):\n",
    "        next_state, reward, done,info=self.env.step(action)\n",
    "        next_state=self.frameProcessor.process_frame(next_state)\n",
    "\n",
    "        self.curr_state=self.stack_frames(next_state,self.curr_state)\n",
    "        return self.curr_state, reward, done\n",
    "  \n",
    "    def reset(self):\n",
    "        state=self.env.reset()\n",
    "        state=self.frameProcessor.process_frame(state)\n",
    "\n",
    "        self.curr_state=self.stack_frames(state,self.curr_state,new_episode=True)\n",
    "    \n",
    "  \n",
    "    def render(self):\n",
    "#         print ((self.curr_state[:,:,0]))\n",
    "#         print (\"newline\")\n",
    "#         io.imshow(self.curr_state[:,:,0],cmap=\"gray\")\n",
    "        plt.imshow(self.curr_state[:,:,0],cmap='gray')\n",
    "        plt.show()\n",
    "        self.env.render()"
   ]
  },
  {
   "cell_type": "code",
   "execution_count": null,
   "metadata": {},
   "outputs": [],
   "source": []
  },
  {
   "cell_type": "code",
   "execution_count": 8,
   "metadata": {
    "colab": {
     "base_uri": "https://localhost:8080/",
     "height": 145
    },
    "colab_type": "code",
    "id": "yxDAql7_90RK",
    "outputId": "106f57b4-c870-414f-ba22-06e51381d7d4",
    "scrolled": true
   },
   "outputs": [
    {
     "name": "stdout",
     "output_type": "stream",
     "text": [
      "The size of our frame is:  Box(210, 160, 3)\n",
      "The action size is :  6\n"
     ]
    },
    {
     "name": "stderr",
     "output_type": "stream",
     "text": [
      "/home/armughan/anaconda3/envs/py3.6/lib/python3.6/site-packages/skimage/transform/_warps.py:84: UserWarning: The default mode, 'constant', will be changed to 'reflect' in skimage 0.15.\n",
      "  warn(\"The default mode, 'constant', will be changed to 'reflect' in \"\n"
     ]
    }
   ],
   "source": [
    "env=Environment('SpaceInvaders-v0',FP)"
   ]
  },
  {
   "cell_type": "code",
   "execution_count": 17,
   "metadata": {},
   "outputs": [],
   "source": [
    "class DQN(BaseModel):\n",
    "    def __init__(self, input_shape, num_outputs, optimizer, arch_config_file):\n",
    "        \"\"\"\n",
    "        params:\n",
    "            input_shape:specifies input_shape\n",
    "                            for the inputs to the model (batch dim not included)\n",
    "            optimizer: optimizer function used during training\n",
    "            arch_config_files:path of file that specify the design of network\n",
    "        \"\"\"\n",
    "        BaseModel.__init__(self, input_shape, num_outputs, optimizer, \"DQN\")\n",
    "        self.arch_config_file = arch_config_file\n",
    "        \n",
    "\n",
    "        \n",
    "    def loss(self,targets,pred_qvals):\n",
    "        target_Q=targets[0]\n",
    "        actions=targets[1]\n",
    "        pred_Q=KB.sum(pred_qvals*actions, axis=1)\n",
    "        loss = (tf.square(target_Q - pred_Q))\n",
    "        loss=KB.mean(loss)\n",
    "        return loss\n",
    "        \n",
    "        \n",
    "\n",
    "    def construct_model(self,training=True):\n",
    "        \"\"\"\n",
    "        Model is constructed here and self.Model stores the link to the Model\n",
    "        \"\"\"\n",
    "        state_inputs = layers.Input(shape=(self.input_shape))\n",
    "        \n",
    "        q_values = construct_model_from_csv(self.arch_config_file,state_inputs)\n",
    "        assert q_values.shape[-1] == self.num_outputs,\"outputs in last layer should \\\n",
    "                                                        be equal to the number of actions allowed\"\n",
    "        if training:\n",
    "            action_one_hot_inputs=layers.Input(shape=(self.num_outputs,))\n",
    "            pred_q_a=action_one_hot_inputs*q_values\n",
    "            pred_q_a=KB.sum(pred_q_a,axis=-1)\n",
    "            \n",
    "            self.Model = keras_model(inputs=[state_inputs,action_one_hot_inputs], outputs=[q_values,pred_q_a])\n",
    "            self.Model.compile(loss=[\"mse\",\"mse\"],loss_weights=[0.0,1.0], optimizer=self.optimizer)                \n",
    "        \n",
    "        else:\n",
    "            self.Model = keras_model(inputs=[state_inputs], output=q_values)\n",
    "            \n",
    "        self.Model.summary()\n",
    "\n",
    "        \n",
    "\n",
    "        "
   ]
  },
  {
   "cell_type": "code",
   "execution_count": 18,
   "metadata": {
    "scrolled": true
   },
   "outputs": [
    {
     "name": "stdout",
     "output_type": "stream",
     "text": [
      "_________________________________________________________________\n",
      "Layer (type)                 Output Shape              Param #   \n",
      "=================================================================\n",
      "input_2 (InputLayer)         (None, 110, 84, 4)        0         \n",
      "_________________________________________________________________\n",
      "conv2d_4 (Conv2D)            (None, 26, 20, 32)        8224      \n",
      "_________________________________________________________________\n",
      "activation_5 (Activation)    (None, 26, 20, 32)        0         \n",
      "_________________________________________________________________\n",
      "conv2d_5 (Conv2D)            (None, 12, 9, 64)         32832     \n",
      "_________________________________________________________________\n",
      "activation_6 (Activation)    (None, 12, 9, 64)         0         \n",
      "_________________________________________________________________\n",
      "conv2d_6 (Conv2D)            (None, 5, 4, 64)          36928     \n",
      "_________________________________________________________________\n",
      "activation_7 (Activation)    (None, 5, 4, 64)          0         \n",
      "_________________________________________________________________\n",
      "flatten_2 (Flatten)          (None, 1280)              0         \n",
      "_________________________________________________________________\n",
      "dense_3 (Dense)              (None, 512)               655872    \n",
      "_________________________________________________________________\n",
      "activation_8 (Activation)    (None, 512)               0         \n",
      "_________________________________________________________________\n",
      "dense_4 (Dense)              (None, 6)                 3078      \n",
      "=================================================================\n",
      "Total params: 736,934\n",
      "Trainable params: 736,934\n",
      "Non-trainable params: 0\n",
      "_________________________________________________________________\n"
     ]
    },
    {
     "name": "stderr",
     "output_type": "stream",
     "text": [
      "/home/armughan/anaconda3/envs/py3.6/lib/python3.6/site-packages/ipykernel_launcher.py:35: UserWarning: Update your `Model` call to the Keras 2 API: `Model(inputs=[<tf.Tenso..., outputs=Tensor(\"de...)`\n"
     ]
    }
   ],
   "source": [
    "input_shape=env.obs_shape\n",
    "num_outputs=env.num_actions\n",
    "optimizer=KO.Adam(lr=0.0001)\n",
    "design_config_file=\"qnetwork.csv\"\n",
    "model=DQN(input_shape=input_shape,num_outputs=num_outputs,\n",
    "        optimizer=optimizer,arch_config_file=design_config_file)\n",
    "model.construct_model()"
   ]
  },
  {
   "cell_type": "code",
   "execution_count": 27,
   "metadata": {},
   "outputs": [],
   "source": [
    "class ExperienceReplayBuffer:\n",
    "    def __init__(self, buffer_size,state_shape):\n",
    "        self.buffer_size=buffer_size\n",
    "        self.curr_index=0\n",
    "        self.state_buffer=np.zeros((buffer_size,*state_shape))\n",
    "        self.next_state_buffer=np.zeros((buffer_size,*state_shape))\n",
    "        self.reward_buffer=np.zeros((buffer_size))\n",
    "        self.done_buffer=np.ones((buffer_size))\n",
    "        self.action_buffer=np.zeros((buffer_size))\n",
    "        \n",
    "    \n",
    "    def add(self, experience):\n",
    "        state, action, reward, next_state, done=experience\n",
    "        \n",
    "        self.state_buffer[self.curr_index]=state\n",
    "        self.action_buffer[self.curr_index]=action\n",
    "        self.reward_buffer[self.curr_index]=reward        \n",
    "        self.next_state_buffer[self.curr_index]=next_state\n",
    "        self.done_buffer[self.curr_index]=done\n",
    "        self.curr_index=(self.curr_index+1)%self.buffer_size\n",
    "        \n",
    "    def sample(self, batch_size):\n",
    "        inds = np.random.choice(np.arange(self.buffer_size),\n",
    "                                size = batch_size,\n",
    "                                replace = False)\n",
    "        \n",
    "        return self.state_buffer[inds],self.action_buffer[inds],\\\n",
    "                self.reward_buffer[inds],self.next_state_buffer[inds],self.done_buffer[inds]"
   ]
  },
  {
   "cell_type": "code",
   "execution_count": 28,
   "metadata": {},
   "outputs": [],
   "source": [
    "# exb=ExperienceReplayBuffer(10,(2,3,4))"
   ]
  },
  {
   "cell_type": "code",
   "execution_count": 30,
   "metadata": {},
   "outputs": [
    {
     "name": "stdout",
     "output_type": "stream",
     "text": [
      "(8, 2, 3, 4)\n",
      "(8,)\n",
      "(8,)\n",
      "(8, 2, 3, 4)\n",
      "(8,)\n"
     ]
    }
   ],
   "source": [
    "# a,b,c,d,e=exb.sample(8)\n",
    "# print (a.shape)\n",
    "# print (b.shape)\n",
    "# print (c.shape)\n",
    "# print (d.shape)\n",
    "# print (e.shape)"
   ]
  },
  {
   "cell_type": "code",
   "execution_count": 0,
   "metadata": {
    "colab": {},
    "colab_type": "code",
    "id": "W10kG56l3x7s"
   },
   "outputs": [],
   "source": [
    "# def preprocess_frame(frame):\n",
    "#     # Greyscale frame \n",
    "#     gray = rgb2gray(frame)\n",
    "    \n",
    "#     # Crop the screen (remove the part below the player)\n",
    "#     # [Up: Down, Left: right]\n",
    "#     cropped_frame = gray[8:-12,4:-12]\n",
    "    \n",
    "#     # Normalize Pixel Values\n",
    "#     normalized_frame = cropped_frame/255.0\n",
    "    \n",
    "#     # Resize\n",
    "#     # Thanks to Mikołaj Walkowiak\n",
    "#     preprocessed_frame = transform.resize(normalized_frame, [110,84])\n",
    "    \n",
    "#     return preprocessed_frame # 110x84x1 fram"
   ]
  },
  {
   "cell_type": "code",
   "execution_count": 3,
   "metadata": {
    "colab": {
     "base_uri": "https://localhost:8080/",
     "height": 109
    },
    "colab_type": "code",
    "id": "o9AZrOlz4w4C",
    "outputId": "72cfebb0-d4b1-4b70-e4c3-4ea6b439742d"
   },
   "outputs": [
    {
     "name": "stderr",
     "output_type": "stream",
     "text": [
      "/usr/local/lib/python3.6/dist-packages/gym/envs/registration.py:14: PkgResourcesDeprecationWarning: Parameters to load are deprecated.  Call .resolve and .require separately.\n",
      "  result = entry_point.load(False)\n"
     ]
    },
    {
     "name": "stdout",
     "output_type": "stream",
     "text": [
      "The size of our frame is:  Box(210, 160, 3)\n",
      "The action size is :  6\n"
     ]
    }
   ],
   "source": [
    "# env = gym.make('SpaceInvaders-v0')\n",
    "\n",
    "# print(\"The size of our frame is: \", env.observation_space)\n",
    "# print(\"The action size is : \", env.action_space.n)\n",
    "\n",
    "# # Here we create an hot encoded version of our actions\n",
    "# # possible_actions = [[1, 0, 0, 0, 0, 0, 0, 0], [0, 1, 0, 0, 0, 0, 0, 0, 0]...]\n",
    "# possible_actions = np.array(np.identity(env.action_space.n,dtype=int).tolist())\n",
    "# env.observation_space"
   ]
  },
  {
   "cell_type": "code",
   "execution_count": 0,
   "metadata": {
    "colab": {},
    "colab_type": "code",
    "id": "LgF6_NjR4_ZR"
   },
   "outputs": [],
   "source": [
    "# stack_size = 4 # We stack 4 frames\n",
    "\n",
    "# # Initialize deque with zero-images one array for each image\n",
    "# stacked_frames  =  deque([np.zeros((110,84), dtype=np.int) for i in range(stack_size)], maxlen=4)\n",
    "\n",
    "# def stack_frames(stacked_frames, state, is_new_episode):\n",
    "#     # Preprocess frame\n",
    "#     frame = preprocess_frame(state)\n",
    "    \n",
    "#     if is_new_episode:\n",
    "#         # Clear our stacked_frames\n",
    "#         stacked_frames = deque([np.zeros((110,84), dtype=np.int) for i in range(stack_size)], maxlen=4)\n",
    "        \n",
    "#         # Because we're in a new episode, copy the same frame 4x\n",
    "#         stacked_frames.append(frame)\n",
    "#         stacked_frames.append(frame)\n",
    "#         stacked_frames.append(frame)\n",
    "#         stacked_frames.append(frame)\n",
    "        \n",
    "#         # Stack the frames\n",
    "#         stacked_state = np.stack(stacked_frames, axis=2)\n",
    "        \n",
    "#     else:\n",
    "#         # Append frame to deque, automatically removes the oldest frame\n",
    "#         stacked_frames.append(frame)\n",
    "\n",
    "#         # Build the stacked state (first dimension specifies different frames)\n",
    "#         stacked_state = np.stack(stacked_frames, axis=2) \n",
    "    \n",
    "#     return stacked_state, stacked_frames"
   ]
  },
  {
   "cell_type": "code",
   "execution_count": 0,
   "metadata": {
    "colab": {},
    "colab_type": "code",
    "id": "J9yjb1wa52UT"
   },
   "outputs": [],
   "source": [
    "### MODEL HYPERPARAMETERS\n",
    "state_size = [110, 84, 4]      # Our input is a stack of 4 frames hence 110x84x4 (Width, height, channels) \n",
    "action_size = env.action_space.n # 8 possible actions\n",
    "learning_rate =  0.00025      # Alpha (aka learning rate)\n",
    "\n",
    "### TRAINING HYPERPARAMETERS\n",
    "total_episodes = 50            # Total episodes for training\n",
    "max_steps = 50000              # Max possible steps in an episode\n",
    "batch_size = 64                # Batch size\n",
    "\n",
    "# Exploration parameters for epsilon greedy strategy\n",
    "explore_start = 1.0            # exploration probability at start\n",
    "explore_stop = 0.01            # minimum exploration probability \n",
    "decay_rate = 0.00001           # exponential decay rate for exploration prob\n",
    "\n",
    "# Q learning hyperparameters\n",
    "gamma = 0.9                    # Discounting rate\n",
    "\n",
    "### MEMORY HYPERPARAMETERS\n",
    "pretrain_length = batch_size   # Number of experiences stored in the Memory when initialized for the first time\n",
    "memory_size = 1000000          # Number of experiences the Memory can keep\n",
    "\n",
    "### PREPROCESSING HYPERPARAMETERS\n",
    "stack_size = 4                 # Number of frames stacked\n",
    "\n",
    "### MODIFY THIS TO FALSE IF YOU JUST WANT TO SEE THE TRAINED AGENT\n",
    "training = True\n",
    "\n",
    "## TURN THIS TO TRUE IF YOU WANT TO RENDER THE ENVIRONMENT\n",
    "episode_render = False"
   ]
  },
  {
   "cell_type": "code",
   "execution_count": 0,
   "metadata": {
    "colab": {},
    "colab_type": "code",
    "id": "_hL9L-RZ6AMU"
   },
   "outputs": [],
   "source": [
    "# class DQNetwork:\n",
    "#     def __init__(self, state_size, action_size, learning_rate, name='DQNetwork'):\n",
    "#         self.state_size = state_size\n",
    "#         self.action_size = action_size\n",
    "#         self.learning_rate = learning_rate\n",
    "        \n",
    "#         with tf.variable_scope(name):\n",
    "#             # We create the placeholders\n",
    "#             # *state_size means that we take each elements of state_size in tuple hence is like if we wrote\n",
    "#             # [None, 84, 84, 4]\n",
    "#             self.inputs_ = tf.placeholder(tf.float32, [None, *state_size], name=\"inputs\")\n",
    "#             self.actions_ = tf.placeholder(tf.float32, [None, self.action_size], name=\"actions_\")\n",
    "            \n",
    "#             # Remember that target_Q is the R(s,a) + ymax Qhat(s', a')\n",
    "#             self.target_Q = tf.placeholder(tf.float32, [None], name=\"target\")\n",
    "            \n",
    "#             \"\"\"\n",
    "#             First convnet:\n",
    "#             CNN\n",
    "#             ELU\n",
    "#             \"\"\"\n",
    "#             # Input is 110x84x4\n",
    "#             self.conv1 = tf.layers.conv2d(inputs = self.inputs_,\n",
    "#                                          filters = 32,\n",
    "#                                          kernel_size = [8,8],\n",
    "#                                          strides = [4,4],\n",
    "#                                          padding = \"VALID\",\n",
    "#                                           kernel_initializer=tf.contrib.layers.xavier_initializer_conv2d(),\n",
    "#                                          name = \"conv1\")\n",
    "            \n",
    "#             self.conv1_out = tf.nn.elu(self.conv1, name=\"conv1_out\")\n",
    "            \n",
    "#             \"\"\"\n",
    "#             Second convnet:\n",
    "#             CNN\n",
    "#             ELU\n",
    "#             \"\"\"\n",
    "#             self.conv2 = tf.layers.conv2d(inputs = self.conv1_out,\n",
    "#                                  filters = 64,\n",
    "#                                  kernel_size = [4,4],\n",
    "#                                  strides = [2,2],\n",
    "#                                  padding = \"VALID\",\n",
    "#                                 kernel_initializer=tf.contrib.layers.xavier_initializer_conv2d(),\n",
    "#                                  name = \"conv2\")\n",
    "\n",
    "#             self.conv2_out = tf.nn.elu(self.conv2, name=\"conv2_out\")            \n",
    "            \n",
    "#             \"\"\"\n",
    "#             Third convnet:\n",
    "#             CNN\n",
    "#             ELU\n",
    "#             \"\"\"\n",
    "#             self.conv3 = tf.layers.conv2d(inputs = self.conv2_out,\n",
    "#                                  filters = 64,\n",
    "#                                  kernel_size = [3,3],\n",
    "#                                  strides = [2,2],\n",
    "#                                  padding = \"VALID\",\n",
    "#                                 kernel_initializer=tf.contrib.layers.xavier_initializer_conv2d(),\n",
    "#                                  name = \"conv3\")\n",
    "\n",
    "#             self.conv3_out = tf.nn.elu(self.conv3, name=\"conv3_out\")\n",
    "            \n",
    "#             self.flatten = tf.contrib.layers.flatten(self.conv3_out)\n",
    "            \n",
    "#             self.fc = tf.layers.dense(inputs = self.flatten,\n",
    "#                                   units = 512,\n",
    "#                                   activation = tf.nn.elu,\n",
    "#                                        kernel_initializer=tf.contrib.layers.xavier_initializer(),\n",
    "#                                 name=\"fc1\")\n",
    "            \n",
    "#             self.output = tf.layers.dense(inputs = self.fc, \n",
    "#                                            kernel_initializer=tf.contrib.layers.xavier_initializer(),\n",
    "#                                           units = self.action_size, \n",
    "#                                         activation=None)\n",
    "            \n",
    "\n",
    "  \n",
    "#             # Q is our predicted Q value.\n",
    "#             self.Q = tf.reduce_sum(tf.multiply(self.output, self.actions_))\n",
    "            \n",
    "#             # The loss is the difference between our predicted Q_values and the Q_target\n",
    "#             # Sum(Qtarget - Q)^2\n",
    "#             self.loss = tf.reduce_mean(tf.square(self.target_Q - self.Q))\n",
    "            \n",
    "#             self.optimizer = tf.train.AdamOptimizer(self.learning_rate).minimize(self.loss)"
   ]
  },
  {
   "cell_type": "code",
   "execution_count": 0,
   "metadata": {
    "colab": {},
    "colab_type": "code",
    "id": "cuOE8t_-6KyU"
   },
   "outputs": [],
   "source": [
    "\n",
    "# # Reset the graph\n",
    "# tf.reset_default_graph()\n",
    "\n",
    "# # Instantiate the DQNetwork\n",
    "# DQNetwork = DQNetwork(state_size, action_size, learning_rate)"
   ]
  },
  {
   "cell_type": "code",
   "execution_count": 0,
   "metadata": {
    "colab": {},
    "colab_type": "code",
    "id": "o5nNFkge6b2C"
   },
   "outputs": [],
   "source": [
    "class Memory():\n",
    "    def __init__(self, max_size):\n",
    "        self.buffer = deque(maxlen = max_size)\n",
    "    \n",
    "    def add(self, experience):\n",
    "        self.buffer.append(experience)\n",
    "    \n",
    "    def sample(self, batch_size):\n",
    "        buffer_size = len(self.buffer)\n",
    "        index = np.random.choice(np.arange(buffer_size),\n",
    "                                size = batch_size,\n",
    "                                replace = False)\n",
    "        \n",
    "        return [self.buffer[i] for i in index]"
   ]
  },
  {
   "cell_type": "code",
   "execution_count": 9,
   "metadata": {
    "colab": {
     "base_uri": "https://localhost:8080/",
     "height": 73
    },
    "colab_type": "code",
    "id": "zai_4jX36bsQ",
    "outputId": "7155b90a-53cd-4d0c-d5a5-f4cc5b9c9b32"
   },
   "outputs": [
    {
     "name": "stderr",
     "output_type": "stream",
     "text": [
      "/usr/local/lib/python3.6/dist-packages/skimage/transform/_warps.py:84: UserWarning: The default mode, 'constant', will be changed to 'reflect' in skimage 0.15.\n",
      "  warn(\"The default mode, 'constant', will be changed to 'reflect' in \"\n"
     ]
    }
   ],
   "source": [
    "# Instantiate memory\n",
    "memory = Memory(max_size = memory_size)\n",
    "for i in range(pretrain_length):\n",
    "    # If it's the first step\n",
    "    if i == 0:\n",
    "        state = env.reset()\n",
    "        \n",
    "        state, stacked_frames = stack_frames(stacked_frames, state, True)\n",
    "        \n",
    "    # Get the next_state, the rewards, done by taking a random action\n",
    "    choice = random.randint(1,len(possible_actions))-1\n",
    "    action = possible_actions[choice]\n",
    "#     print (action)\n",
    "    next_state, reward, done, _ = env.step(np.argmax(action))\n",
    "    \n",
    "    #env.render()\n",
    "    \n",
    "    # Stack the frames\n",
    "    next_state, stacked_frames = stack_frames(stacked_frames, next_state, False)\n",
    "    \n",
    "    \n",
    "    # If the episode is finished (we're dead 3x)\n",
    "    if done:\n",
    "        # We finished the episode\n",
    "        next_state = np.zeros(state.shape)\n",
    "        \n",
    "        # Add experience to memory\n",
    "        memory.add((state, action, reward, next_state, done))\n",
    "        \n",
    "        # Start a new episode\n",
    "        state = env.reset()\n",
    "        \n",
    "        # Stack the frames\n",
    "        state, stacked_frames = stack_frames(stacked_frames, state, True)\n",
    "        \n",
    "    else:\n",
    "        # Add experience to memory\n",
    "        memory.add((state, action, reward, next_state, done))\n",
    "        \n",
    "        # Our new state is now the next_state\n",
    "        state = next_state"
   ]
  },
  {
   "cell_type": "code",
   "execution_count": 0,
   "metadata": {
    "colab": {},
    "colab_type": "code",
    "id": "sRtUXV7g7lyD"
   },
   "outputs": [],
   "source": [
    "\n",
    "# Setup TensorBoard Writer\n",
    "writer = tf.summary.FileWriter(\"/tensorboard/dqn/1\")\n",
    "\n",
    "## Losses\n",
    "tf.summary.scalar(\"Loss\", DQNetwork.loss)\n",
    "\n",
    "write_op = tf.summary.merge_all()"
   ]
  },
  {
   "cell_type": "code",
   "execution_count": 0,
   "metadata": {
    "colab": {},
    "colab_type": "code",
    "id": "DW1itkTR6biq"
   },
   "outputs": [],
   "source": [
    "\"\"\"\n",
    "This function will do the part\n",
    "With ϵϵ select a random action atat, otherwise select at=argmaxaQ(st,a)\n",
    "\"\"\"\n",
    "def predict_action(explore_start, explore_stop, decay_rate, decay_step, state, actions):\n",
    "    ## EPSILON GREEDY STRATEGY\n",
    "    # Choose action a from state s using epsilon greedy.\n",
    "    ## First we randomize a number\n",
    "    exp_exp_tradeoff = np.random.rand()\n",
    "\n",
    "    # Here we'll use an improved version of our epsilon greedy strategy used in Q-learning notebook\n",
    "    explore_probability = explore_stop + (explore_start - explore_stop) * np.exp(-decay_rate * decay_step)\n",
    "    \n",
    "    if (explore_probability > exp_exp_tradeoff):\n",
    "        # Make a random action (exploration)\n",
    "        choice = random.randint(1,len(possible_actions))-1\n",
    "        action = possible_actions[choice]\n",
    "        \n",
    "    else:\n",
    "        # Get action from Q-network (exploitation)\n",
    "        # Estimate the Qs values state\n",
    "        Qs = sess.run(DQNetwork.output, feed_dict = {DQNetwork.inputs_: state.reshape((1, *state.shape))})\n",
    "        \n",
    "        # Take the biggest Q value (= the best action)\n",
    "        choice = np.argmax(Qs)\n",
    "        action = possible_actions[choice]\n",
    "                \n",
    "                \n",
    "    return action, explore_probability"
   ]
  },
  {
   "cell_type": "code",
   "execution_count": 12,
   "metadata": {
    "colab": {
     "base_uri": "https://localhost:8080/",
     "height": 1153
    },
    "colab_type": "code",
    "id": "h310ZtBQ6bAw",
    "outputId": "224a96b9-e30b-44a2-9656-8f201651651c"
   },
   "outputs": [
    {
     "name": "stderr",
     "output_type": "stream",
     "text": [
      "/usr/local/lib/python3.6/dist-packages/skimage/transform/_warps.py:84: UserWarning: The default mode, 'constant', will be changed to 'reflect' in skimage 0.15.\n",
      "  warn(\"The default mode, 'constant', will be changed to 'reflect' in \"\n"
     ]
    },
    {
     "name": "stdout",
     "output_type": "stream",
     "text": [
      "Episode: 0 Total reward: 480.0 Explore P: 0.9904 Training Loss 9.9791\n",
      "Model Saved\n",
      "Episode: 1 Total reward: 120.0 Explore P: 0.9838 Training Loss 0.4405\n",
      "Episode: 2 Total reward: 300.0 Explore P: 0.9730 Training Loss 0.0982\n",
      "Episode: 3 Total reward: 120.0 Explore P: 0.9680 Training Loss 15.6547\n",
      "Episode: 4 Total reward: 180.0 Explore P: 0.9623 Training Loss 0.0636\n",
      "Episode: 5 Total reward: 50.0 Explore P: 0.9585 Training Loss 0.0112\n",
      "Model Saved\n",
      "Episode: 6 Total reward: 460.0 Explore P: 0.9448 Training Loss 0.0130\n",
      "Episode: 7 Total reward: 330.0 Explore P: 0.9351 Training Loss 21.3551\n",
      "Episode: 8 Total reward: 485.0 Explore P: 0.9243 Training Loss 0.0740\n",
      "Episode: 9 Total reward: 65.0 Explore P: 0.9182 Training Loss 0.1947\n",
      "Episode: 10 Total reward: 65.0 Explore P: 0.9124 Training Loss 13.9551\n",
      "Model Saved\n",
      "Episode: 11 Total reward: 110.0 Explore P: 0.9067 Training Loss 0.2223\n",
      "Episode: 12 Total reward: 415.0 Explore P: 0.8990 Training Loss 0.0094\n",
      "Episode: 13 Total reward: 155.0 Explore P: 0.8926 Training Loss 0.0391\n",
      "Episode: 14 Total reward: 210.0 Explore P: 0.8855 Training Loss 0.0994\n",
      "Episode: 15 Total reward: 160.0 Explore P: 0.8766 Training Loss 0.3865\n",
      "Model Saved\n",
      "Episode: 16 Total reward: 105.0 Explore P: 0.8712 Training Loss 0.0395\n",
      "Episode: 17 Total reward: 20.0 Explore P: 0.8667 Training Loss 0.0671\n",
      "Episode: 18 Total reward: 275.0 Explore P: 0.8594 Training Loss 647.6030\n",
      "Episode: 19 Total reward: 110.0 Explore P: 0.8518 Training Loss 0.0951\n",
      "Episode: 20 Total reward: 30.0 Explore P: 0.8483 Training Loss 9.5618\n",
      "Model Saved\n",
      "Episode: 21 Total reward: 80.0 Explore P: 0.8450 Training Loss 6.1844\n",
      "Episode: 22 Total reward: 65.0 Explore P: 0.8396 Training Loss 0.0037\n",
      "Episode: 23 Total reward: 215.0 Explore P: 0.8329 Training Loss 0.4045\n",
      "Episode: 24 Total reward: 230.0 Explore P: 0.8247 Training Loss 3.0524\n",
      "Episode: 25 Total reward: 70.0 Explore P: 0.8221 Training Loss 6.1874\n",
      "Model Saved\n",
      "Episode: 26 Total reward: 110.0 Explore P: 0.8181 Training Loss 8.3198\n",
      "Episode: 27 Total reward: 120.0 Explore P: 0.8127 Training Loss 1.5477\n",
      "Episode: 28 Total reward: 255.0 Explore P: 0.8049 Training Loss 0.0063\n",
      "Episode: 29 Total reward: 225.0 Explore P: 0.7970 Training Loss 3.0356\n",
      "Episode: 30 Total reward: 35.0 Explore P: 0.7917 Training Loss 6.1591\n",
      "Model Saved\n",
      "Episode: 31 Total reward: 60.0 Explore P: 0.7876 Training Loss 7.6427\n",
      "Episode: 32 Total reward: 45.0 Explore P: 0.7830 Training Loss 1.5419\n",
      "Episode: 33 Total reward: 105.0 Explore P: 0.7797 Training Loss 0.0673\n",
      "Episode: 34 Total reward: 90.0 Explore P: 0.7758 Training Loss 6.5127\n",
      "Episode: 35 Total reward: 80.0 Explore P: 0.7726 Training Loss 3.8131\n",
      "Model Saved\n",
      "Episode: 36 Total reward: 180.0 Explore P: 0.7663 Training Loss 3.4604\n",
      "Episode: 37 Total reward: 50.0 Explore P: 0.7622 Training Loss 0.0037\n",
      "Episode: 38 Total reward: 215.0 Explore P: 0.7529 Training Loss 0.0792\n",
      "Episode: 39 Total reward: 155.0 Explore P: 0.7483 Training Loss 19.1847\n",
      "Episode: 40 Total reward: 335.0 Explore P: 0.7425 Training Loss 1.5418\n",
      "Model Saved\n",
      "Episode: 41 Total reward: 185.0 Explore P: 0.7367 Training Loss 3.0468\n",
      "Episode: 42 Total reward: 195.0 Explore P: 0.7305 Training Loss 9.6704\n",
      "Episode: 43 Total reward: 135.0 Explore P: 0.7245 Training Loss 6.8701\n",
      "Episode: 44 Total reward: 20.0 Explore P: 0.7207 Training Loss 6.1558\n",
      "Episode: 45 Total reward: 95.0 Explore P: 0.7168 Training Loss 13.9072\n",
      "Model Saved\n",
      "Episode: 46 Total reward: 290.0 Explore P: 0.7066 Training Loss 0.0703\n",
      "Episode: 47 Total reward: 80.0 Explore P: 0.7027 Training Loss 7.6629\n",
      "Episode: 48 Total reward: 50.0 Explore P: 0.6988 Training Loss 6.9277\n",
      "Episode: 49 Total reward: 70.0 Explore P: 0.6947 Training Loss 9.6272\n"
     ]
    }
   ],
   "source": [
    "# Saver will help us to save our model\n",
    "saver = tf.train.Saver()\n",
    "\n",
    "if training == True:\n",
    "    with tf.Session() as sess:\n",
    "        # Initialize the variables\n",
    "        sess.run(tf.global_variables_initializer())\n",
    "\n",
    "        # Initialize the decay rate (that will use to reduce epsilon) \n",
    "        decay_step = 0\n",
    "        \n",
    "        for episode in range(total_episodes):\n",
    "            # Set step to 0\n",
    "            step = 0\n",
    "            \n",
    "            # Initialize the rewards of the episode\n",
    "            episode_rewards = []\n",
    "            \n",
    "            # Make a new episode and observe the first state\n",
    "            state = env.reset()\n",
    "            \n",
    "            # Remember that stack frame function also call our preprocess function.\n",
    "            state, stacked_frames = stack_frames(stacked_frames, state, True)\n",
    "            \n",
    "            while step < max_steps:\n",
    "                step += 1\n",
    "                \n",
    "                #Increase decay_step\n",
    "                decay_step +=1\n",
    "                \n",
    "                # Predict the action to take and take it\n",
    "                action, explore_probability = predict_action(explore_start, explore_stop, decay_rate, decay_step, state, possible_actions)\n",
    "                \n",
    "                #Perform the action and get the next_state, reward, and done information\n",
    "                next_state, reward, done, _ = env.step(np.argmax(action))\n",
    "                \n",
    "                if episode_render:\n",
    "                    env.render()\n",
    "                \n",
    "                # Add the reward to total reward\n",
    "                episode_rewards.append(reward)\n",
    "                \n",
    "                # If the game is finished\n",
    "                if done:\n",
    "                    # The episode ends so no next state\n",
    "                    next_state = np.zeros((110,84), dtype=np.int)\n",
    "                    \n",
    "                    next_state, stacked_frames = stack_frames(stacked_frames, next_state, False)\n",
    "\n",
    "                    # Set step = max_steps to end the episode\n",
    "                    step = max_steps\n",
    "\n",
    "                    # Get the total reward of the episode\n",
    "                    total_reward = np.sum(episode_rewards)\n",
    "\n",
    "                    print('Episode: {}'.format(episode),\n",
    "                                  'Total reward: {}'.format(total_reward),\n",
    "                                  'Explore P: {:.4f}'.format(explore_probability),\n",
    "                                'Training Loss {:.4f}'.format(loss))\n",
    "\n",
    "#                     rewards_list.append((episode, total_reward))\n",
    "\n",
    "                    # Store transition <st,at,rt+1,st+1> in memory D\n",
    "                    memory.add((state, action, reward, next_state, done))\n",
    "\n",
    "                else:\n",
    "                    # Stack the frame of the next_state\n",
    "                    next_state, stacked_frames = stack_frames(stacked_frames, next_state, False)\n",
    "                \n",
    "                    # Add experience to memory\n",
    "                    memory.add((state, action, reward, next_state, done))\n",
    "\n",
    "                    # st+1 is now our current state\n",
    "                    state = next_state\n",
    "                    \n",
    "\n",
    "                ### LEARNING PART            \n",
    "                # Obtain random mini-batch from memory\n",
    "                batch = memory.sample(batch_size)\n",
    "                states_mb = np.array([each[0] for each in batch], ndmin=3)\n",
    "                actions_mb = np.array([each[1] for each in batch])\n",
    "                rewards_mb = np.array([each[2] for each in batch]) \n",
    "                next_states_mb = np.array([each[3] for each in batch], ndmin=3)\n",
    "                dones_mb = np.array([each[4] for each in batch])\n",
    "\n",
    "                target_Qs_batch = []\n",
    "\n",
    "                # Get Q values for next_state \n",
    "                Qs_next_state = sess.run(DQNetwork.output, feed_dict = {DQNetwork.inputs_: next_states_mb})\n",
    "                \n",
    "                # Set Q_target = r if the episode ends at s+1, otherwise set Q_target = r + gamma*maxQ(s', a')\n",
    "                for i in range(0, len(batch)):\n",
    "                    terminal = dones_mb[i]\n",
    "\n",
    "                    # If we are in a terminal state, only equals reward\n",
    "                    if terminal:\n",
    "                        target_Qs_batch.append(rewards_mb[i])\n",
    "                        \n",
    "                    else:\n",
    "                        target = rewards_mb[i] + gamma * np.max(Qs_next_state[i])\n",
    "                        target_Qs_batch.append(target)\n",
    "                        \n",
    "\n",
    "                targets_mb = np.array([each for each in target_Qs_batch])\n",
    "\n",
    "                loss, _ = sess.run([DQNetwork.loss, DQNetwork.optimizer],\n",
    "                                        feed_dict={DQNetwork.inputs_: states_mb,\n",
    "                                                   DQNetwork.target_Q: targets_mb,\n",
    "                                                   DQNetwork.actions_: actions_mb})\n",
    "\n",
    "                # Write TF Summaries\n",
    "                summary = sess.run(write_op, feed_dict={DQNetwork.inputs_: states_mb,\n",
    "                                                       DQNetwork.target_Q: targets_mb,\n",
    "                                                       DQNetwork.actions_: actions_mb})\n",
    "                writer.add_summary(summary, episode)\n",
    "                writer.flush()\n",
    "\n",
    "            # Save model every 5 episodes\n",
    "            if episode % 5 == 0:\n",
    "                save_path = saver.save(sess, \"./models/model.ckpt\")\n",
    "                print(\"Model Saved\")"
   ]
  },
  {
   "cell_type": "code",
   "execution_count": 17,
   "metadata": {
    "colab": {
     "base_uri": "https://localhost:8080/",
     "height": 145
    },
    "colab_type": "code",
    "id": "teHm6Y1FMStS",
    "outputId": "f76e23e9-1397-43a6-8105-3c84a0682048"
   },
   "outputs": [
    {
     "name": "stdout",
     "output_type": "stream",
     "text": [
      "INFO:tensorflow:Restoring parameters from ./models/model.ckpt\n",
      "****************************************************\n",
      "EPISODE  0\n"
     ]
    },
    {
     "name": "stderr",
     "output_type": "stream",
     "text": [
      "/usr/local/lib/python3.6/dist-packages/skimage/transform/_warps.py:84: UserWarning: The default mode, 'constant', will be changed to 'reflect' in skimage 0.15.\n",
      "  warn(\"The default mode, 'constant', will be changed to 'reflect' in \"\n"
     ]
    },
    {
     "name": "stdout",
     "output_type": "stream",
     "text": [
      "Score 30.0\n"
     ]
    }
   ],
   "source": [
    "with tf.Session() as sess:\n",
    "    total_test_rewards = []\n",
    "    \n",
    "    # Load the model\n",
    "    saver.restore(sess, \"./models/model.ckpt\")\n",
    "    \n",
    "    for episode in range(1):\n",
    "        total_rewards = 0\n",
    "        \n",
    "        state = env.reset()\n",
    "        state, stacked_frames = stack_frames(stacked_frames, state, True)\n",
    "        \n",
    "        print(\"****************************************************\")\n",
    "        print(\"EPISODE \", episode)\n",
    "        \n",
    "        while True:\n",
    "            # Reshape the state\n",
    "            state = state.reshape((1, *state_size))\n",
    "            # Get action from Q-network \n",
    "            # Estimate the Qs values state\n",
    "            Qs = sess.run(DQNetwork.output, feed_dict = {DQNetwork.inputs_: state})\n",
    "            \n",
    "            # Take the biggest Q value (= the best action)\n",
    "            choice = np.argmax(Qs)\n",
    "            action = possible_actions[choice]\n",
    "            \n",
    "            #Perform the action and get the next_state, reward, and done information\n",
    "            next_state, reward, done, _ = env.step(np.argmax(action))\n",
    "#             env.render()\n",
    "            \n",
    "            total_rewards += reward\n",
    "\n",
    "            if done:\n",
    "                print (\"Score\", total_rewards)\n",
    "                total_test_rewards.append(total_rewards)\n",
    "                break\n",
    "                \n",
    "                \n",
    "            next_state, stacked_frames = stack_frames(stacked_frames, next_state, False)\n",
    "            state = next_state\n",
    "            \n",
    "    env.close()"
   ]
  },
  {
   "cell_type": "code",
   "execution_count": 11,
   "metadata": {
    "colab": {
     "base_uri": "https://localhost:8080/",
     "height": 127
    },
    "colab_type": "code",
    "id": "Pph-Vp6jcHHK",
    "outputId": "8e4d2cb3-7656-4f52-e03d-f226d5ef2e12"
   },
   "outputs": [
    {
     "name": "stderr",
     "output_type": "stream",
     "text": [
      "/usr/local/lib/python3.6/dist-packages/gym/envs/registration.py:14: PkgResourcesDeprecationWarning: Parameters to load are deprecated.  Call .resolve and .require separately.\n",
      "  result = entry_point.load(False)\n"
     ]
    },
    {
     "name": "stdout",
     "output_type": "stream",
     "text": [
      "(110, 84)\n"
     ]
    },
    {
     "name": "stderr",
     "output_type": "stream",
     "text": [
      "/usr/local/lib/python3.6/dist-packages/skimage/transform/_warps.py:84: UserWarning: The default mode, 'constant', will be changed to 'reflect' in skimage 0.15.\n",
      "  warn(\"The default mode, 'constant', will be changed to 'reflect' in \"\n"
     ]
    }
   ],
   "source": [
    "env = gym.make('SpaceInvaders-v0')\n",
    "obs=env.reset()\n",
    "pobs=FP.process_frame(obs)\n",
    "print (pobs.shape)\n",
    "# print (obs.shape)\n",
    "# print (obs)\n",
    "# obs=rgb2gray(obs)\n",
    "# io.imshow(obs)\n",
    "# for _ in range(15):\n",
    "#     time.sleep(0.3)\n",
    "#     io.imshow(obs)\n",
    "# #     print (obs)\n",
    "# #     cv2.imshow(\"blah\",obs)\n",
    "# #     plt.imshow(obs)\n",
    "# #     env.render()\n",
    "#     obs,rew,done,info=env.step(env.action_space.sample()) # take a random action"
   ]
  },
  {
   "cell_type": "code",
   "execution_count": 28,
   "metadata": {
    "colab": {
     "base_uri": "https://localhost:8080/",
     "height": 449
    },
    "colab_type": "code",
    "id": "zjmAVOI8hsNX",
    "outputId": "481a680f-832e-4efa-9592-b53ad8ddfc87"
   },
   "outputs": [
    {
     "name": "stdout",
     "output_type": "stream",
     "text": [
      "[[[0]\n",
      "  [1]]\n",
      "\n",
      " [[2]\n",
      "  [3]]\n",
      "\n",
      " [[4]\n",
      "  [5]]]\n",
      "[[[100]\n",
      "  [  1]]\n",
      "\n",
      " [[  2]\n",
      "  [  3]]\n",
      "\n",
      " [[  4]\n",
      "  [  5]]]\n",
      "[[[0 0 0 0 0]\n",
      "  [1 1 1 1 1]]\n",
      "\n",
      " [[2 2 2 2 2]\n",
      "  [3 3 3 3 3]]\n",
      "\n",
      " [[4 4 4 4 4]\n",
      "  [5 5 5 5 5]]]\n"
     ]
    }
   ],
   "source": [
    "a=np.arange(6).reshape(3,2,1)\n",
    "print (a)\n",
    "b=np.repeat(a,5,axis=-1)\n",
    "a[0,0,0]=100\n",
    "\n",
    "print (a)\n",
    "print (b)"
   ]
  },
  {
   "cell_type": "code",
   "execution_count": 11,
   "metadata": {},
   "outputs": [
    {
     "data": {
      "text/plain": [
       "2"
      ]
     },
     "execution_count": 11,
     "metadata": {},
     "output_type": "execute_result"
    }
   ],
   "source": [
    "min(3,2)"
   ]
  }
 ],
 "metadata": {
  "accelerator": "GPU",
  "colab": {
   "collapsed_sections": [],
   "name": "ReinforcementLearning.ipynb",
   "provenance": [],
   "version": "0.3.2"
  },
  "kernelspec": {
   "display_name": "Python 3",
   "language": "python",
   "name": "python3"
  },
  "language_info": {
   "codemirror_mode": {
    "name": "ipython",
    "version": 3
   },
   "file_extension": ".py",
   "mimetype": "text/x-python",
   "name": "python",
   "nbconvert_exporter": "python",
   "pygments_lexer": "ipython3",
   "version": "3.6.5"
  }
 },
 "nbformat": 4,
 "nbformat_minor": 1
}
