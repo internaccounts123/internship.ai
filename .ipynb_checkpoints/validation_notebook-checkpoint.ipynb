{
 "cells": [
  {
   "cell_type": "code",
   "execution_count": 16,
   "metadata": {
    "scrolled": true
   },
   "outputs": [],
   "source": [
    "from Preprocessing.Preprocessor import Preprocessor\n",
    "from models.generic_model import Model\n",
    "from data_utils.keras_generator import Generator\n",
    "import keras.losses as losses\n",
    "from utils.losses import weighted_cross_entropy_loss,f1_score_metric\n",
    "from utils.callbacks import get_tensorboard_callback,get_checkpoint_call_back\n",
    "from keras import optimizers\n",
    "import keras.backend as KB\n",
    "import keras.losses as Loss\n",
    "import tensorflow as tf\n",
    "import os\n",
    "import sys\n",
    "import pandas as pd\n",
    "import numpy as np\n",
    "from sklearn.metrics import confusion_matrix\n",
    "from sklearn.metrics import f1_score"
   ]
  },
  {
   "cell_type": "code",
   "execution_count": 2,
   "metadata": {},
   "outputs": [],
   "source": [
    "label_encoder_dir=\"Preprocessing\"\n",
    "val_data_dir=r'D:\\Val_Data'"
   ]
  },
  {
   "cell_type": "code",
   "execution_count": 3,
   "metadata": {},
   "outputs": [],
   "source": [
    "val_files=os.listdir(val_data_dir)\n",
    "array=pd.read_hdf(os.path.join(val_data_dir,val_files[0]))\n",
    "P=Preprocessor(label_encoder_dir)\n",
    "array=P.process_batch(array)\n",
    "action_col=array.columns=='action'\n",
    "g_config={'labels':6,\n",
    "        'weightage':[1,1,1,1,1,1],\n",
    "        'data_directory':val_data_dir,\n",
    "        'file_batch_size':50,\n",
    "        'format_':'h5',\n",
    "        'ex_batch_size':10000,\n",
    "        'file_examples':5000,\n",
    "        'max_queue_size':1,\n",
    "        'Preprocessor':P,\n",
    "        'static_weightage':False,\n",
    "         'action_col':action_col}\n",
    "\n",
    "G=Generator(config=g_config)\n"
   ]
  },
  {
   "cell_type": "code",
   "execution_count": 8,
   "metadata": {},
   "outputs": [],
   "source": [
    "nn_config={'layer_shapes':[300,300,300,100,50],'Activation':'relu','Output':6,'Input_shape':472, 'model_type':'fc'}\n",
    "my_model=Model(nn_config) \n",
    "f1=f1_score_metric(6)\n",
    "my_model.model.compile(loss=weighted_cross_entropy_loss, optimizer=optimizers.Adam(lr=5e-4),metrics=[\"acc\",f1])"
   ]
  },
  {
   "cell_type": "code",
   "execution_count": 5,
   "metadata": {},
   "outputs": [
    {
     "name": "stdout",
     "output_type": "stream",
     "text": [
      "File No: 0\n",
      "File No: 1\n",
      "File No: 2\n",
      "File No: 3\n",
      "File No: 4\n",
      "File No: 5\n",
      "File No: 6\n",
      "File No: 7\n",
      "File No: 8\n",
      "File No: 9\n",
      "File No: 10\n",
      "File No: 11\n",
      "File No: 12\n",
      "File No: 13\n",
      "File No: 14\n",
      "File No: 15\n",
      "File No: 16\n",
      "File No: 17\n",
      "File No: 18\n",
      "File No: 19\n",
      "File No: 20\n",
      "File No: 21\n",
      "File No: 22\n",
      "File No: 23\n",
      "File No: 24\n",
      "File No: 25\n",
      "File No: 26\n",
      "File No: 27\n",
      "File No: 28\n",
      "File No: 29\n",
      "File No: 30\n",
      "File No: 31\n",
      "File No: 32\n",
      "File No: 33\n",
      "File No: 34\n",
      "File No: 35\n",
      "File No: 36\n",
      "File No: 37\n",
      "File No: 38\n",
      "File No: 39\n",
      "File No: 40\n",
      "File No: 41\n",
      "File No: 42\n",
      "File No: 43\n",
      "File No: 44\n",
      "File No: 45\n",
      "File No: 46\n",
      "File No: 47\n",
      "File No: 48\n",
      "File No: 49\n"
     ]
    }
   ],
   "source": [
    "G.generate()"
   ]
  },
  {
   "cell_type": "code",
   "execution_count": 9,
   "metadata": {},
   "outputs": [],
   "source": [
    "my_model.model.load_weights(r'E:\\Weights.h5')"
   ]
  },
  {
   "cell_type": "code",
   "execution_count": 12,
   "metadata": {},
   "outputs": [
    {
     "data": {
      "text/plain": [
       "array([[     0,    351,    184,    202,      0,      0],\n",
       "       [     0, 108804,     50,   1289,      0,      0],\n",
       "       [     0,   4706,  42010,   6793,      0,      0],\n",
       "       [     0,  14461,    354,  69825,      0,      0],\n",
       "       [     0,     54,    163,    327,      0,      0],\n",
       "       [     0,     64,    150,    213,      0,      0]], dtype=int64)"
      ]
     },
     "execution_count": 12,
     "metadata": {},
     "output_type": "execute_result"
    }
   ],
   "source": [
    "true_actions=[]\n",
    "pred_actions=[]\n",
    "for i in range(len(G)):\n",
    "    data,actions=G[i]\n",
    "    true_actions.extend(np.argmax(actions,axis=1))\n",
    "    pred_actions.extend(np.argmax(my_model.model.predict(data),axis=1))\n",
    "    \n",
    "\n",
    "\n",
    "confusion_matrix(true_actions,pred_actions)"
   ]
  },
  {
   "cell_type": "code",
   "execution_count": 19,
   "metadata": {},
   "outputs": [
    {
     "name": "stdout",
     "output_type": "stream",
     "text": [
      "0.882556\n",
      "0.43978553547236565\n",
      "0.8778966583014243\n"
     ]
    }
   ],
   "source": [
    "print (f1_score(true_actions,pred_actions,average='micro'))\n",
    "print (f1_score(true_actions,pred_actions,average='macro'))\n",
    "# print (f1_score(true_actions,pred_actions,average='samples'))\n",
    "print (f1_score(true_actions,pred_actions,average='weighted'))"
   ]
  },
  {
   "cell_type": "code",
   "execution_count": 14,
   "metadata": {},
   "outputs": [
    {
     "data": {
      "text/plain": [
       "(array([0, 1, 2, 3, 4, 5], dtype=int64),\n",
       " array([   737, 110143,  53509,  84640,    544,    427], dtype=int64))"
      ]
     },
     "execution_count": 14,
     "metadata": {},
     "output_type": "execute_result"
    }
   ],
   "source": [
    "np.unique(true_actions,return_counts=True)"
   ]
  },
  {
   "cell_type": "code",
   "execution_count": null,
   "metadata": {},
   "outputs": [],
   "source": [
    "my_model.model.fit_generator(generator= G, \n",
    "                    steps_per_epoch  = len(G), \n",
    "                    epochs           = 10, \n",
    "                    verbose          = 1,\n",
    "#                     validation_data  = valid_batch,\n",
    "#                     validation_steps = len(valid_batch),\n",
    "                    max_queue_size   = 3)"
   ]
  }
 ],
 "metadata": {
  "kernelspec": {
   "display_name": "Python 3",
   "language": "python",
   "name": "python3"
  },
  "language_info": {
   "codemirror_mode": {
    "name": "ipython",
    "version": 3
   },
   "file_extension": ".py",
   "mimetype": "text/x-python",
   "name": "python",
   "nbconvert_exporter": "python",
   "pygments_lexer": "ipython3",
   "version": "3.6.2"
  }
 },
 "nbformat": 4,
 "nbformat_minor": 2
}
