{
 "cells": [
  {
   "cell_type": "code",
   "execution_count": 17,
   "metadata": {
    "collapsed": true
   },
   "outputs": [],
   "source": [
    "import pandas as pd\n",
    "import os\n",
    "import json\n",
    "import numpy as np"
   ]
  },
  {
   "cell_type": "code",
   "execution_count": 20,
   "metadata": {},
   "outputs": [],
   "source": [
    "def load(directory,format='csv'):\n",
    "    files = os.listdir(directory)\n",
    "    data_list = []\n",
    "    if format == 'csv':\n",
    "        for i in files:\n",
    "            if (i[-4:]=='.csv'):\n",
    "                array=pd.read_csv(os.path.join(directory,i)).values\n",
    "                data_list.extend(array)\n",
    "    elif format == 'h5':\n",
    "        for i in files:\n",
    "            if (i[-3:]=='.h5'):\n",
    "                array=pd.read_hdf(os.path.join(directory,i)).values\n",
    "                data_list.extend(array)\n",
    "    elif format == 'npy':\n",
    "        for i in files:\n",
    "            if (i[-4:]=='.csv'):\n",
    "                array=np.load(os.path.join(directory, i))\n",
    "                data_list.extend(array)\n",
    "    columns=load_np_columns(os.path.join(directory,\"np_keys.json\"))\n",
    "    return data_list,columns\n",
    "def load_np_columns(filename):\n",
    "    with open(filename) as fp:\n",
    "        np_dict=json.load(fp)\n",
    "        indices=[]\n",
    "        names=[]\n",
    "        for k,v in np_dict.items():\n",
    "            indices.append(int(k))\n",
    "            names.append(v)\n",
    "        indices=np.array(indices)\n",
    "        names=np.array(names)\n",
    "        names=names[indices]\n",
    "        return names\n",
    "data,columns=load(r'C:\\Users\\MuhammadUsman\\PycharmProjects\\internship.ai\\Output','h5')"
   ]
  },
  {
   "cell_type": "code",
   "execution_count": null,
   "metadata": {},
   "outputs": [
    {
     "name": "stdout",
     "output_type": "stream",
     "text": [
      "10000\n"
     ]
    },
    {
     "data": {
      "text/plain": [
       "['1.h5',\n '10.h5',\n '2.h5',\n '3.h5',\n '4.h5',\n '5.h5',\n '6.h5',\n '7.h5',\n '8.h5',\n '9.h5',\n 'np_keys.json']"
      ]
     },
     "execution_count": 21,
     "metadata": {},
     "output_type": "execute_result"
    }
   ],
   "source": [
    "print (len(data))\n",
    "print (columns)"
   ]
  },
  {
   "cell_type": "code",
   "execution_count": null,
   "metadata": {},
   "outputs": [],
   "source": []
  }
 ],
 "metadata": {
  "kernelspec": {
   "display_name": "Python 2",
   "language": "python",
   "name": "python2"
  },
  "language_info": {
   "codemirror_mode": {
    "name": "ipython",
    "version": 2
   },
   "file_extension": ".py",
   "mimetype": "text/x-python",
   "name": "python",
   "nbconvert_exporter": "python",
   "pygments_lexer": "ipython2",
   "version": "2.7.6"
  }
 },
 "nbformat": 4,
 "nbformat_minor": 0
}
