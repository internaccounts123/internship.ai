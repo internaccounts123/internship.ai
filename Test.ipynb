{
 "cells": [
  {
   "cell_type": "code",
   "execution_count": 2,
   "metadata": {
    "collapsed": true
   },
   "outputs": [],
   "source": [
    "import pandas as pd\n",
    "import os\n",
    "import numpy as np"
   ]
  },
  {
   "cell_type": "code",
   "execution_count": null,
   "metadata": {},
   "outputs": [],
   "source": [
    "def load(directory,format='csv'):\n",
    "    files = os.listdir(directory)\n",
    "    data_list = []\n",
    "    if format == 'csv':\n",
    "        for i in files:\n",
    "            array=pd.read_csv(os.path.join(directory,i)).values\n",
    "            data_list.extend(array)\n",
    "    elif format == 'h5':\n",
    "        for i in files:\n",
    "            array=pd.read_csv(os.path.join(directory,i)).values\n",
    "            data_list.extend(array)\n",
    "    elif format == 'npy':\n",
    "        array=np.load(os.path.join(directory, i))\n",
    "        data_list.extend(array)\n",
    "    return data_list\n",
    "load()"
   ]
  }
 ],
 "metadata": {
  "kernelspec": {
   "display_name": "Python 2",
   "language": "python",
   "name": "python2"
  },
  "language_info": {
   "codemirror_mode": {
    "name": "ipython",
    "version": 2
   },
   "file_extension": ".py",
   "mimetype": "text/x-python",
   "name": "python",
   "nbconvert_exporter": "python",
   "pygments_lexer": "ipython2",
   "version": "2.7.6"
  }
 },
 "nbformat": 4,
 "nbformat_minor": 0
}
