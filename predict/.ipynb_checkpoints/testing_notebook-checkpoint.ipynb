{
 "cells": [
  {
   "cell_type": "code",
   "execution_count": 6,
   "metadata": {},
   "outputs": [],
   "source": [
    "from Predict import Network\n",
    "import sys\n",
    "path = r'C:\\Users\\Rashi\\internship.ai\\predict'\n",
    "sys.path.append(path)\n",
    "n = Network(path)\n",
    "# n.predict(example)\n"
   ]
  }
 ],
 "metadata": {
  "kernelspec": {
   "display_name": "Python 3",
   "language": "python",
   "name": "python3"
  }
 },
 "nbformat": 4,
 "nbformat_minor": 2
}
