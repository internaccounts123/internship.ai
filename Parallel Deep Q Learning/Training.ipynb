{
 "cells": [
  {
   "cell_type": "code",
   "execution_count": 2,
   "metadata": {},
   "outputs": [],
   "source": [
    "import numpy as np\n",
    "import os\n",
    "from utils.tools import *\n",
    "import keras\n",
    "import matplotlib.pyplot as plt\n",
    "%matplotlib inline\n",
    "from multiprocessing import Process,Queue,Value\n",
    "from generator import DataGenerator\n",
    "from utils.tools import sample "
   ]
  },
  {
   "cell_type": "code",
   "execution_count": 3,
   "metadata": {},
   "outputs": [
    {
     "name": "stdout",
     "output_type": "stream",
     "text": [
      "{'actions': 6, 'bottom_right_x': -12, 'bottom_right_y': -12, 'decay': 1e-06, 'env_name': 'SpaceInvaders-v0', 'eps': 0.1, 'exploration': 'greedy', 'gain': 5, 'gamma': 0.9, 'gpu': True, 'input_shape': (110, 84, 4), 'max_episode_steps': 10000, 'nstack': 4, 'path': 'Policy/', 'start_from_pretrained': 1, 'top_left_x': 4, 'top_left_y': 8, 'learning_rate': 0.001, 'Total_Q_Iterations': 50, 'sample_size': 8000, 'target_update_iterations': 5, 'regess_for_epochs': 40}\n"
     ]
    }
   ],
   "source": [
    "config=load_config('config.yaml')\n",
    "print (config)"
   ]
  },
  {
   "cell_type": "code",
   "execution_count": 4,
   "metadata": {},
   "outputs": [],
   "source": [
    "replay_buffer=Queue(maxsize=10000)\n",
    "saved_new=Value('i',config['start_from_pretrained'])\n",
    "shared_objs={'replay_buffer':replay_buffer,'load_network':saved_new}\n",
    "G=DataGenerator(config)"
   ]
  },
  {
   "cell_type": "code",
   "execution_count": 5,
   "metadata": {},
   "outputs": [],
   "source": [
    "P=Process(target=G.generate_data,args=(shared_objs,))\n",
    "P.start()"
   ]
  },
  {
   "cell_type": "code",
   "execution_count": 5,
   "metadata": {
    "collapsed": false
   },
   "outputs": [
    {
     "name": "stderr",
     "output_type": "stream",
     "text": [
      "C:\\Users\\MuhammadUsman\\PycharmProjects\\Deep-Q-Learning\\Policy\\PolicyNetwork.py:36: UserWarning: Update your `Model` call to the Keras 2 API: `Model(inputs=[<tf.Tenso..., outputs=Tensor(\"la...)`\n  self.Model = keras_model(inputs=[state_inputs,action_one_hot_inputs], output=pred_q_a)\n"
     ]
    },
    {
     "name": "stdout",
     "output_type": "stream",
     "text": [
      "__________________________________________________________________________________________________\nLayer (type)                    Output Shape         Param #     Connected to                     \n==================================================================================================\ninput_1 (InputLayer)            (None, 110, 84, 4)   0                                            \n__________________________________________________________________________________________________\nbatch_normalization_1 (BatchNor (None, 110, 84, 4)   16          input_1[0][0]                    \n__________________________________________________________________________________________________\nconv2d_1 (Conv2D)               (None, 26, 20, 32)   8224        batch_normalization_1[0][0]      \n__________________________________________________________________________________________________\nbatch_normalization_2 (BatchNor (None, 26, 20, 32)   128         conv2d_1[0][0]                   \n__________________________________________________________________________________________________\nactivation_1 (Activation)       (None, 26, 20, 32)   0           batch_normalization_2[0][0]      \n__________________________________________________________________________________________________\nconv2d_2 (Conv2D)               (None, 12, 9, 64)    32832       activation_1[0][0]               \n__________________________________________________________________________________________________\nbatch_normalization_3 (BatchNor (None, 12, 9, 64)    256         conv2d_2[0][0]                   \n__________________________________________________________________________________________________\nactivation_2 (Activation)       (None, 12, 9, 64)    0           batch_normalization_3[0][0]      \n__________________________________________________________________________________________________\nconv2d_3 (Conv2D)               (None, 5, 4, 64)     36928       activation_2[0][0]               \n__________________________________________________________________________________________________\nbatch_normalization_4 (BatchNor (None, 5, 4, 64)     256         conv2d_3[0][0]                   \n__________________________________________________________________________________________________\nactivation_3 (Activation)       (None, 5, 4, 64)     0           batch_normalization_4[0][0]      \n__________________________________________________________________________________________________\nflatten_1 (Flatten)             (None, 1280)         0           activation_3[0][0]               \n__________________________________________________________________________________________________\ndense_1 (Dense)                 (None, 512)          655872      flatten_1[0][0]                  \n__________________________________________________________________________________________________\nbatch_normalization_5 (BatchNor (None, 512)          2048        dense_1[0][0]                    \n__________________________________________________________________________________________________\nactivation_4 (Activation)       (None, 512)          0           batch_normalization_5[0][0]      \n__________________________________________________________________________________________________\ndense_2 (Dense)                 (None, 6)            3078        activation_4[0][0]               \n__________________________________________________________________________________________________\ninput_2 (InputLayer)            (None, 6)            0                                            \n__________________________________________________________________________________________________\nlambda_1 (Lambda)               (None, 1)            0           dense_2[0][0]                    \n                                                                 input_2[0][0]                    \n==================================================================================================\nTotal params: 739,638\nTrainable params: 738,286\nNon-trainable params: 1,352\n__________________________________________________________________________________________________\n"
     ]
    }
   ],
   "source": [
    "import tensorflow as tf\n",
    "from Policy.PolicyNetwork import DQN\n",
    "if config['gpu']==True:\n",
    "            from keras import backend as K\n",
    "            config1 = tf.ConfigProto()\n",
    "            config1.gpu_options.allow_growth=True\n",
    "            sess = tf.Session(config=config1)\n",
    "            K.set_session(sess)\n",
    "model = DQN(input_shape=config['input_shape'],num_outputs=config['actions'],\n",
    "          lr=config['learning_rate'],\n",
    "          arch_config_file=os.path.join(config['path'],\"qnetwork.csv\"))\n",
    "model.construct_model(training=True)\n",
    "if (config['start_from_pretrained']):\n",
    "    model.Model.load_weights('weights.h5')"
   ]
  },
  {
   "cell_type": "code",
   "execution_count": 6,
   "metadata": {
    "collapsed": true
   },
   "outputs": [
    {
     "name": "stdout",
     "output_type": "stream",
     "text": [
      "Q_Iteration: 1\n0\n"
     ]
    }
   ],
   "source": [
    "for i in range(config['Total_Q_Iterations']):\n",
    "    print ('Q_Iteration: {}'.format(i+1))\n",
    "    for j in range(config['target_update_iterations']):\n",
    "        print ('target_update_iterations {}'.format(i))\n",
    "        X,y,a=sample(replay_buffer,config['sample_size'])\n",
    "        print (X.shape)\n",
    "        model.Model.fit([X,keras.utils.to_categorical(a,num_classes=6)],y,epochs=config['regess_for_epochs'],batch_size=512,\n",
    "                        verbose=2)\n",
    "    model.Model.save_weights('weights.h5')\n",
    "    with saved_new.get_lock():\n",
    "        saved_new.value = 1"
   ]
  }
 ],
 "metadata": {
  "kernelspec": {
   "display_name": "Python 3",
   "language": "python",
   "name": "python3"
  },
  "language_info": {
   "codemirror_mode": {
    "name": "ipython",
    "version": 3
   },
   "file_extension": ".py",
   "mimetype": "text/x-python",
   "name": "python",
   "nbconvert_exporter": "python",
   "pygments_lexer": "ipython3",
   "version": "3.5.5"
  }
 },
 "nbformat": 4,
 "nbformat_minor": 1
}
