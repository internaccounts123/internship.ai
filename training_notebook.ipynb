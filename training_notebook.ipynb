{
 "cells": [
  {
   "cell_type": "code",
   "execution_count": null,
   "metadata": {},
   "outputs": [],
   "source": [
    "from Preprocessing.Preprocessor import Preprocessor\n",
    "from models.generic_model import Model\n",
    "from data_utils.keras_generator_stratified import Generator\n",
    "from utils.losses import weighted_cross_entropy_loss\n",
    "from utils.callbacks import get_tensorboard_callback\n",
    "from keras import optimizers\n",
    "import os\n",
    "import pandas as pd\n"
   ]
  },
  {
   "cell_type": "code",
   "execution_count": null,
   "metadata": {},
   "outputs": [],
   "source": [
    "label_encoder_dir = \"Preprocessing\"\n",
    "train_data_dir = r'D:\\Val_Data'\n"
   ]
  },
  {
   "cell_type": "code",
   "execution_count": null,
   "metadata": {},
   "outputs": [],
   "source": [
    "train_files = os.listdir(train_data_dir)\n",
    "array=pd.read_hdf(os.path.join(train_data_dir, train_files[0]))\n",
    "P = Preprocessor(label_encoder_dir)\n",
    "array = P.process_batch(array)\n",
    "action_col=array.columns == 'action'\n",
    "g_config={'labels': 6,\n",
    "          'weightage': [1, 1, 1, 1, 1, 1],\n",
    "          'data_directory': train_data_dir,\n",
    "          'file_batch_size': 1500,\n",
    "          'format_': 'h5',\n",
    "          'ex_batch_size': 10000,\n",
    "          'file_examples': 5000,\n",
    "          'max_queue_size': 1,\n",
    "          'Preprocessor': P,\n",
    "          'static_weightage': False,\n",
    "          'action_col': action_col}\n",
    "\n",
    "G = Generator(config=g_config)\n"
   ]
  },
  {
   "cell_type": "code",
   "execution_count": null,
   "metadata": {},
   "outputs": [],
   "source": [
    "nn_config = {'layer_shapes': [500, 500, 500], 'Activation': 'relu',\n",
    "             'Output': 6, 'Input_shape': 472, 'model_type': 'fc'}\n",
    "my_model = Model(nn_config)\n",
    "my_model.model.compile(loss=weighted_cross_entropy_loss, optimizer=optimizers.Adam(lr=5e-4), metrics=[\"acc\"])\n"
   ]
  },
  {
   "cell_type": "code",
   "execution_count": null,
   "metadata": {},
   "outputs": [],
   "source": [
    "G.fill_buffer()\n"
   ]
  },
  {
   "cell_type": "markdown",
   "metadata": {},
   "source": [
    "my_model.model.summary()"
   ]
  },
  {
   "cell_type": "code",
   "execution_count": null,
   "metadata": {},
   "outputs": [],
   "source": [
    "my_model.model.fit_generator(generator=G, steps_per_epoch=len(G), epochs=300, verbose=1, max_queue_size=3)\n"
   ]
  }
 ],
 "metadata": {
  "kernelspec": {
   "display_name": "Python 3",
   "language": "python",
   "name": "python3"
  },
  "language_info": {
   "codemirror_mode": {
    "name": "ipython",
    "version": 3
   },
   "file_extension": ".py",
   "mimetype": "text/x-python",
   "name": "python",
   "nbconvert_exporter": "python",
   "pygments_lexer": "ipython3",
   "version": "3.6.2"
  }
 },
 "nbformat": 4,
 "nbformat_minor": 2
}
