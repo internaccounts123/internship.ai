{
 "cells": [
  {
   "cell_type": "code",
   "execution_count": null,
   "metadata": {},
   "outputs": [],
   "source": [
    "from generic_model import Model\n",
    "from data_utils.keras_generator import Generator\n",
    "from keras import optimizers\n",
    "import keras.backend as KB\n",
    "import keras.losses as Loss\n",
    "import tensorflow as tf\n",
    "from Preprocessing.Preprocessor import preprocessor \n",
    "from data_utils.Loss import custom_loss"
   ]
  },
  {
   "cell_type": "code",
   "execution_count": null,
   "metadata": {},
   "outputs": [],
   "source": [
    "encoder_dir='E:/'\n",
    "data_dir='D:/Data'\n",
    "p_config={'labels':6,\n",
    "        'weightage':[1,1,1,1,1,1],\n",
    "        'data_directory':data_dir,\n",
    "        'file_batch_size':10,\n",
    "        'format_':'h5',\n",
    "        'ex_batch_size':1000,\n",
    "        'file_examples':5000,\n",
    "        'Preprocessor':preprocessor(encoder_dir),\n",
    "        'static_weightage':False}\n",
    "\n",
    "G=Generator(config=p_config)\n"
   ]
  },
  {
   "cell_type": "code",
   "execution_count": null,
   "metadata": {},
   "outputs": [],
   "source": [
    "nn_config={'layer_shapes':[200,200,200,50,10],'Activation':'relu','Output':6,'Input_shape':477, 'model_type':'fc'}\n",
    "my_model=Model(nn_config) \n",
    "my_model.model.compile(loss=custom_loss, optimizer=optimizers.Adam(lr=0.05),metrics=[\"acc\"])\n",
    "\n",
    "\n",
    "\n"
   ]
  },
  {
   "cell_type": "code",
   "execution_count": null,
   "metadata": {},
   "outputs": [],
   "source": [
    "my_model.model.fit_generator(generator= G, \n",
    "                    steps_per_epoch  = len(G), \n",
    "                    epochs           = 10, \n",
    "                    verbose          = 1,\n",
    "#                     validation_data  = valid_batch,\n",
    "#                     validation_steps = len(valid_batch),\n",
    "                    max_queue_size   = 3)"
   ]
  }
 ],
 "metadata": {
  "kernelspec": {
   "display_name": "Python 3",
   "language": "python",
   "name": "python3"
  },
  "language_info": {
   "codemirror_mode": {
    "name": "ipython",
    "version": 3
   },
   "file_extension": ".py",
   "mimetype": "text/x-python",
   "name": "python",
   "nbconvert_exporter": "python",
   "pygments_lexer": "ipython3",
   "version": "3.6.2"
  }
 },
 "nbformat": 4,
 "nbformat_minor": 2
}
