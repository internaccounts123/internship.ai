{
 "cells": [
  {
   "cell_type": "code",
   "execution_count": 33,
   "metadata": {},
   "outputs": [],
   "source": [
    "import pandas as pd\n",
    "import os\n",
    "import sys\n",
    "import json\n",
    "import numpy as np\n",
    "import tensorflow as tf\n",
    "import keras.layers as L\n",
    "import keras.activations as A\n",
    "import keras.optimizers as O\n",
    "import keras.losses as Loss\n",
    "from keras.models import Model\n",
    "from keras.callbacks import TensorBoard\n",
    "import time"
   ]
  },
  {
   "cell_type": "code",
   "execution_count": 34,
   "metadata": {},
   "outputs": [],
   "source": [
    "ROOTDIR=os.path.abspath(\"../\")\n",
    "sys.path.append(ROOTDIR)"
   ]
  },
  {
   "cell_type": "code",
   "execution_count": 35,
   "metadata": {},
   "outputs": [],
   "source": [
    "from Preprocessing.Preprocessor import preprocessor\n",
    "from data_utils.keras_generator import Generator"
   ]
  },
  {
   "cell_type": "code",
   "execution_count": 36,
   "metadata": {},
   "outputs": [],
   "source": [
    "label_encoder_dir=os.path.join(ROOTDIR,\"Preprocessing\")\n",
    "data_dir=os.path.join(ROOTDIR,\"Data\")"
   ]
  },
  {
   "cell_type": "code",
   "execution_count": 37,
   "metadata": {},
   "outputs": [],
   "source": [
    "P=preprocessor(label_encoder_dir)\n",
    "config={'data_directory':data_dir,'file_batch_size':3,'format_':'h5','ex_batch_size':500,'file_examples':1000,'obsnet_col':4,'Preprocessor':P}"
   ]
  },
  {
   "cell_type": "code",
   "execution_count": 38,
   "metadata": {},
   "outputs": [],
   "source": [
    "G=Generator(config=config)"
   ]
  },
  {
   "cell_type": "code",
   "execution_count": 47,
   "metadata": {},
   "outputs": [],
   "source": [
    "class FC_Model():\n",
    "    def __init__(self,config):\n",
    "        self.Neurons=config['Hidden']\n",
    "        self.activation=config['Activation']\n",
    "        self.output=config['Output']\n",
    "        self.input_dim=config['Input_shape']\n",
    "        self.optimizer=config['Optimizer']\n",
    "        self.model=self.make_model()\n",
    "        self.loss()\n",
    "    def make_model(self):\n",
    "        x=L.Input(shape=(self.input_dim,))\n",
    "        inp=x\n",
    "        for i in self.Neurons:\n",
    "            x=L.Dense(i)(x)\n",
    "            x=L.BatchNormalization()(x)\n",
    "            x=L.Activation(\"relu\")(x)\n",
    "        x=L.Dense(self.output,activation='softmax')(x)\n",
    "        return Model(inp,x)\n",
    "    \n",
    "    def loss(self):\n",
    "        self.model.compile(loss=Loss.categorical_crossentropy, optimizer=self.optimizer,metrics=[\"acc\"])\n",
    "    def fit(self,generator):\n",
    "        tensorboard=TensorBoard(log_dir='../logs/fc_net',\n",
    "                          write_graph=True)\n",
    "        \n",
    "        self.model.fit_generator(generator= generator, \n",
    "                    steps_per_epoch  = len(generator), \n",
    "                    epochs           = 10, \n",
    "                    verbose          = 1,\n",
    "#                     validation_data  = valid_batch,\n",
    "#                     validation_steps = len(valid_batch),\n",
    "                    max_queue_size   = 3,callbacks=[tensorboard])        \n",
    "n_config={'Hidden':[10,10],'Activation':'relu','Output':5,'Optimizer':O.Adam(lr=0.01),'Input_shape':472 }\n",
    "model=FC_Model(n_config)"
   ]
  },
  {
   "cell_type": "code",
   "execution_count": 40,
   "metadata": {},
   "outputs": [
    {
     "name": "stderr",
     "output_type": "stream",
     "text": [
      "/home/armughan/anaconda3/envs/py3.6/lib/python3.6/site-packages/sklearn/base.py:311: UserWarning: Trying to unpickle estimator LabelEncoder from version 0.19.2 when using version 0.19.1. This might lead to breaking code or invalid results. Use at your own risk.\n",
      "  UserWarning)\n"
     ]
    },
    {
     "data": {
      "text/plain": [
       "array([[540007.0, 0.0, 0.0, ..., -1, -1, -10],\n",
       "       [540007.0, 0.0, 2.0, ..., -1, -1, -10],\n",
       "       [540007.0, 0.0, 0.0, ..., -1, -1, -10],\n",
       "       ...,\n",
       "       [540007.0, 0.0, 2.0, ..., -1, -1, -10],\n",
       "       [530003.0, 0.0, 2.0, ..., -10, -1, -1],\n",
       "       [540007.0, 0.0, 2.0, ..., -10, -1, -1]], dtype=object)"
      ]
     },
     "execution_count": 40,
     "metadata": {},
     "output_type": "execute_result"
    }
   ],
   "source": [
    "G[0][0]"
   ]
  },
  {
   "cell_type": "code",
   "execution_count": 41,
   "metadata": {},
   "outputs": [
    {
     "data": {
      "text/plain": [
       "array([[540007.0, 0.0, 2.0, ..., -1, -1, -10],\n",
       "       [540007.0, 0.0, 2.0, ..., -1, -1, -10],\n",
       "       [540007.0, 0.0, 0.0, ..., -1, -1, -10],\n",
       "       ...,\n",
       "       [540007.0, 0.0, 2.0, ..., -10, -1, -1],\n",
       "       [540007.0, 0.0, 2.0, ..., -1, -1, -10],\n",
       "       [530003.0, 0.0, 0.0, ..., -1, -1, -10]], dtype=object)"
      ]
     },
     "execution_count": 41,
     "metadata": {},
     "output_type": "execute_result"
    }
   ],
   "source": [
    "G[1][0]"
   ]
  },
  {
   "cell_type": "code",
   "execution_count": 48,
   "metadata": {
    "scrolled": true
   },
   "outputs": [
    {
     "name": "stdout",
     "output_type": "stream",
     "text": [
      "Epoch 1/10\n"
     ]
    },
    {
     "name": "stderr",
     "output_type": "stream",
     "text": [
      "/home/armughan/anaconda3/envs/py3.6/lib/python3.6/site-packages/sklearn/base.py:311: UserWarning: Trying to unpickle estimator LabelEncoder from version 0.19.2 when using version 0.19.1. This might lead to breaking code or invalid results. Use at your own risk.\n",
      "  UserWarning)\n"
     ]
    },
    {
     "name": "stdout",
     "output_type": "stream",
     "text": [
      "20/20 [==============================] - 3s 141ms/step - loss: 1.5581 - acc: 0.3770\n",
      "Epoch 2/10\n",
      "20/20 [==============================] - 3s 134ms/step - loss: 0.8110 - acc: 0.8414\n",
      "Epoch 3/10\n",
      "20/20 [==============================] - 3s 138ms/step - loss: 0.4216 - acc: 0.9242\n",
      "Epoch 4/10\n",
      "20/20 [==============================] - 3s 133ms/step - loss: 0.3322 - acc: 0.9251\n",
      "Epoch 5/10\n",
      "20/20 [==============================] - 3s 144ms/step - loss: 0.2332 - acc: 0.9180\n",
      "Epoch 6/10\n",
      "20/20 [==============================] - 3s 139ms/step - loss: 0.1595 - acc: 0.9529\n",
      "Epoch 7/10\n",
      "20/20 [==============================] - 3s 141ms/step - loss: 0.1335 - acc: 0.9688\n",
      "Epoch 8/10\n",
      "20/20 [==============================] - 3s 140ms/step - loss: 0.1652 - acc: 0.9630\n",
      "Epoch 9/10\n",
      "20/20 [==============================] - 3s 137ms/step - loss: 0.1474 - acc: 0.9606\n",
      "Epoch 10/10\n",
      "20/20 [==============================] - 3s 142ms/step - loss: 0.1193 - acc: 0.9696\n"
     ]
    }
   ],
   "source": [
    "model.fit(generator=G)"
   ]
  },
  {
   "cell_type": "code",
   "execution_count": null,
   "metadata": {},
   "outputs": [],
   "source": []
  }
 ],
 "metadata": {
  "kernelspec": {
   "display_name": "Python 3",
   "language": "python",
   "name": "python3"
  },
  "language_info": {
   "codemirror_mode": {
    "name": "ipython",
    "version": 3
   },
   "file_extension": ".py",
   "mimetype": "text/x-python",
   "name": "python",
   "nbconvert_exporter": "python",
   "pygments_lexer": "ipython3",
   "version": "3.6.5"
  }
 },
 "nbformat": 4,
 "nbformat_minor": 1
}
