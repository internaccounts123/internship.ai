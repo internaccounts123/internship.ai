{
 "cells": [
  {
   "cell_type": "code",
   "execution_count": 1,
   "metadata": {},
   "outputs": [
    {
     "name": "stderr",
     "output_type": "stream",
     "text": [
      "/home/armughan/anaconda3/envs/py3.6/lib/python3.6/site-packages/h5py/__init__.py:36: FutureWarning: Conversion of the second argument of issubdtype from `float` to `np.floating` is deprecated. In future, it will be treated as `np.float64 == np.dtype(float).type`.\n",
      "  from ._conv import register_converters as _register_converters\n",
      "Using TensorFlow backend.\n"
     ]
    }
   ],
   "source": [
    "import pandas as pd\n",
    "import os\n",
    "import sys\n",
    "import json\n",
    "import numpy as np\n",
    "import tensorflow as tf\n",
    "import keras.layers as L\n",
    "import keras.activations as A\n",
    "import keras.optimizers as O\n",
    "import keras.losses as Loss\n",
    "from keras.models import Model"
   ]
  },
  {
   "cell_type": "code",
   "execution_count": 2,
   "metadata": {},
   "outputs": [],
   "source": [
    "ROOTDIR=os.path.abspath(\"../\")\n",
    "sys.path.append(ROOTDIR)"
   ]
  },
  {
   "cell_type": "code",
   "execution_count": 3,
   "metadata": {},
   "outputs": [],
   "source": [
    "from Preprocessing.Preprocessor import preprocessor\n",
    "from data_utils.keras_generator import Generator"
   ]
  },
  {
   "cell_type": "code",
   "execution_count": 4,
   "metadata": {},
   "outputs": [],
   "source": [
    "label_encoder_dir=os.path.join(ROOTDIR,\"Preprocessing\")\n",
    "data_dir=os.path.join(ROOTDIR,\"Data\")"
   ]
  },
  {
   "cell_type": "code",
   "execution_count": 5,
   "metadata": {},
   "outputs": [],
   "source": [
    "P=preprocessor(label_encoder_dir)\n",
    "config={'data_directory':data_dir,'file_batch_size':3,'format_':'h5','ex_batch_size':500,'file_examples':1000,'obsnet_col':4,'Preprocessor':P}"
   ]
  },
  {
   "cell_type": "code",
   "execution_count": 6,
   "metadata": {},
   "outputs": [],
   "source": [
    "G=Generator(config=config)"
   ]
  },
  {
   "cell_type": "code",
   "execution_count": 11,
   "metadata": {},
   "outputs": [],
   "source": [
    "class FC_Model():\n",
    "    def __init__(self,config):\n",
    "        self.Neurons=config['Hidden']\n",
    "        self.activation=config['Activation']\n",
    "        self.output=config['Output']\n",
    "        self.input_dim=config['Input_shape']\n",
    "        self.optimizer=config['Optimizer']\n",
    "        self.model=self.make_model()\n",
    "        self.loss()\n",
    "    def make_model(self):\n",
    "        x=L.Input(shape=(self.input_dim,))\n",
    "        inp=x\n",
    "        for i in self.Neurons:\n",
    "            x=L.Dense(i)(x)\n",
    "            x=L.BatchNormalization()(x)\n",
    "            x=L.Activation(\"relu\")(x)\n",
    "        x=L.Dense(self.output,activation='softmax')(x)\n",
    "        return Model(inp,x)\n",
    "    def loss(self):\n",
    "        self.model.compile(loss=Loss.categorical_crossentropy, optimizer=self.optimizer,metrics=[\"acc\"])\n",
    "    def fit(self,generator):\n",
    "        self.model.fit_generator(generator= generator, \n",
    "                    steps_per_epoch  = len(generator), \n",
    "                    epochs           = 10, \n",
    "                    verbose          = 1,\n",
    "#                     validation_data  = valid_batch,\n",
    "#                     validation_steps = len(valid_batch),\n",
    "                    max_queue_size   = 3)        \n",
    "n_config={'Hidden':[10,10],'Activation':'relu','Output':5,'Optimizer':O.Adam(lr=0.01),'Input_shape':472 }\n",
    "model=FC_Model(n_config)"
   ]
  },
  {
   "cell_type": "code",
   "execution_count": 8,
   "metadata": {},
   "outputs": [
    {
     "name": "stderr",
     "output_type": "stream",
     "text": [
      "/home/armughan/anaconda3/envs/py3.6/lib/python3.6/site-packages/sklearn/base.py:311: UserWarning: Trying to unpickle estimator LabelEncoder from version 0.19.2 when using version 0.19.1. This might lead to breaking code or invalid results. Use at your own risk.\n",
      "  UserWarning)\n"
     ]
    },
    {
     "data": {
      "text/plain": [
       "array([[540007.0, 0.0, 2.0, ..., -10, -1, -1],\n",
       "       [540007.0, 0.0, 0.0, ..., -1, -1, -10],\n",
       "       [530003.0, 0.0, 2.0, ..., -10, -1, -1],\n",
       "       ...,\n",
       "       [540007.0, 0.0, 2.0, ..., -1, -1, -10],\n",
       "       [540007.0, 0.0, 0.0, ..., -1, -1, -10],\n",
       "       [540007.0, 0.0, 0.0, ..., 68, -1, -10]], dtype=object)"
      ]
     },
     "execution_count": 8,
     "metadata": {},
     "output_type": "execute_result"
    }
   ],
   "source": [
    "G[0][0]"
   ]
  },
  {
   "cell_type": "code",
   "execution_count": 9,
   "metadata": {},
   "outputs": [
    {
     "data": {
      "text/plain": [
       "array([[540007.0, 0.0, 0.0, ..., -1, -1, -10],\n",
       "       [540007.0, 0.0, 2.0, ..., -1, -1, -10],\n",
       "       [530003.0, 0.0, 0.0, ..., -1, -1, -10],\n",
       "       ...,\n",
       "       [540007.0, 0.0, 2.0, ..., -1, -1, -10],\n",
       "       [530003.0, 0.0, 2.0, ..., -10, -1, -1],\n",
       "       [530003.0, 0.0, 2.0, ..., -10, -1, -1]], dtype=object)"
      ]
     },
     "execution_count": 9,
     "metadata": {},
     "output_type": "execute_result"
    }
   ],
   "source": [
    "G[1][0]"
   ]
  },
  {
   "cell_type": "code",
   "execution_count": 12,
   "metadata": {
    "scrolled": true
   },
   "outputs": [
    {
     "name": "stdout",
     "output_type": "stream",
     "text": [
      "Epoch 1/10\n"
     ]
    },
    {
     "name": "stderr",
     "output_type": "stream",
     "text": [
      "/home/armughan/anaconda3/envs/py3.6/lib/python3.6/site-packages/sklearn/base.py:311: UserWarning: Trying to unpickle estimator LabelEncoder from version 0.19.2 when using version 0.19.1. This might lead to breaking code or invalid results. Use at your own risk.\n",
      "  UserWarning)\n"
     ]
    },
    {
     "name": "stdout",
     "output_type": "stream",
     "text": [
      "20/20 [==============================] - 3s 164ms/step - loss: 1.2981 - acc: 0.6005\n",
      "Epoch 2/10\n",
      "20/20 [==============================] - 3s 133ms/step - loss: 0.5512 - acc: 0.8450\n",
      "Epoch 3/10\n",
      "20/20 [==============================] - 3s 125ms/step - loss: 0.4615 - acc: 0.8488\n",
      "Epoch 4/10\n",
      "20/20 [==============================] - 3s 128ms/step - loss: 0.2524 - acc: 0.9331\n",
      "Epoch 5/10\n",
      "20/20 [==============================] - 3s 131ms/step - loss: 0.3425 - acc: 0.9082\n",
      "Epoch 6/10\n",
      "20/20 [==============================] - 3s 130ms/step - loss: 0.2457 - acc: 0.9376\n",
      "Epoch 7/10\n",
      "20/20 [==============================] - 3s 136ms/step - loss: 0.2766 - acc: 0.9325\n",
      "Epoch 8/10\n",
      "20/20 [==============================] - 3s 134ms/step - loss: 0.1765 - acc: 0.9492\n",
      "Epoch 9/10\n",
      "20/20 [==============================] - 3s 133ms/step - loss: 0.1869 - acc: 0.9587\n",
      "Epoch 10/10\n",
      "20/20 [==============================] - 3s 126ms/step - loss: 0.1520 - acc: 0.9602\n"
     ]
    }
   ],
   "source": [
    "model.fit(generator=G)"
   ]
  }
 ],
 "metadata": {
  "kernelspec": {
   "display_name": "Python 3",
   "language": "python",
   "name": "python3"
  },
  "language_info": {
   "codemirror_mode": {
    "name": "ipython",
    "version": 3
   },
   "file_extension": ".py",
   "mimetype": "text/x-python",
   "name": "python",
   "nbconvert_exporter": "python",
   "pygments_lexer": "ipython3",
   "version": "3.6.5"
  }
 },
 "nbformat": 4,
 "nbformat_minor": 1
}
