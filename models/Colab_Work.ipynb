{
  "nbformat": 4,
  "nbformat_minor": 0,
  "metadata": {
    "colab": {
      "name": "AAI.ipynb",
      "version": "0.3.2",
      "provenance": [],
      "collapsed_sections": []
    },
    "kernelspec": {
      "name": "python3",
      "display_name": "Python 3"
    },
    "accelerator": "GPU"
  },
  "cells": [
    {
      "metadata": {
        "id": "Q3iSrXx-AmxS",
        "colab_type": "code",
        "outputId": "8298e4d1-3e61-46a8-d13c-ad1e2f45981f",
        "colab": {
          "base_uri": "https://localhost:8080/",
          "height": 377
        }
      },
      "cell_type": "code",
      "source": [
        "!wget -O Train.npy https://www.dropbox.com/s/sn8v6077bi8z1a6/Train.npy?dl=0"
      ],
      "execution_count": 1,
      "outputs": [
        {
          "output_type": "stream",
          "text": [
            "--2019-01-20 03:23:16--  https://www.dropbox.com/s/sn8v6077bi8z1a6/Train.npy?dl=0\n",
            "Resolving www.dropbox.com (www.dropbox.com)... 162.125.65.1, 2620:100:6021:1::a27d:4101\n",
            "Connecting to www.dropbox.com (www.dropbox.com)|162.125.65.1|:443... connected.\n",
            "HTTP request sent, awaiting response... 301 Moved Permanently\n",
            "Location: /s/raw/sn8v6077bi8z1a6/Train.npy [following]\n",
            "--2019-01-20 03:23:22--  https://www.dropbox.com/s/raw/sn8v6077bi8z1a6/Train.npy\n",
            "Reusing existing connection to www.dropbox.com:443.\n",
            "HTTP request sent, awaiting response... 302 Found\n",
            "Location: https://uc6dc10579c59da84c7dbc3708aa.dl.dropboxusercontent.com/cd/0/inline/AZsQNcD91c_i0q2bQGUYewivJHX2V7nOaeN4IHYkT0ObtGpzReUk4u7kFpu_wLrsFlhjBqfyMs3-S4cxEMqryh1THE91bHskHSGoH46e2wWxBQ/file# [following]\n",
            "--2019-01-20 03:23:22--  https://uc6dc10579c59da84c7dbc3708aa.dl.dropboxusercontent.com/cd/0/inline/AZsQNcD91c_i0q2bQGUYewivJHX2V7nOaeN4IHYkT0ObtGpzReUk4u7kFpu_wLrsFlhjBqfyMs3-S4cxEMqryh1THE91bHskHSGoH46e2wWxBQ/file\n",
            "Resolving uc6dc10579c59da84c7dbc3708aa.dl.dropboxusercontent.com (uc6dc10579c59da84c7dbc3708aa.dl.dropboxusercontent.com)... 162.125.65.6, 2620:100:6021:6::a27d:4106\n",
            "Connecting to uc6dc10579c59da84c7dbc3708aa.dl.dropboxusercontent.com (uc6dc10579c59da84c7dbc3708aa.dl.dropboxusercontent.com)|162.125.65.6|:443... connected.\n",
            "HTTP request sent, awaiting response... 200 OK\n",
            "Length: 116483000 (111M) [text/plain]\n",
            "Saving to: ‘Train.npy’\n",
            "\n",
            "Train.npy           100%[===================>] 111.09M  30.7MB/s    in 6.3s    \n",
            "\n",
            "2019-01-20 03:23:29 (17.7 MB/s) - ‘Train.npy’ saved [116483000/116483000]\n",
            "\n"
          ],
          "name": "stdout"
        }
      ]
    },
    {
      "metadata": {
        "id": "gfH0RkisuT-M",
        "colab_type": "code",
        "outputId": "0d107527-20ac-4114-a082-cdd90708dbfb",
        "colab": {
          "base_uri": "https://localhost:8080/",
          "height": 68
        }
      },
      "cell_type": "code",
      "source": [
        "ls -l --block-size=M"
      ],
      "execution_count": 2,
      "outputs": [
        {
          "output_type": "stream",
          "text": [
            "total 112M\n",
            "drwxr-xr-x 1 root root   1M Jan  8 17:15 \u001b[0m\u001b[01;34msample_data\u001b[0m/\n",
            "-rw-r--r-- 1 root root 112M Jan 20 03:23 Train.npy\n"
          ],
          "name": "stdout"
        }
      ]
    },
    {
      "metadata": {
        "id": "_KhvyWRmBbrL",
        "colab_type": "code",
        "outputId": "a3f8b80d-7a85-4a9c-bbf8-3c6c69be5100",
        "colab": {
          "base_uri": "https://localhost:8080/",
          "height": 51
        }
      },
      "cell_type": "code",
      "source": [
        "import numpy as np\n",
        "from sklearn.model_selection import train_test_split\n",
        "Data=np.load('Train.npy')\n",
        "print (Data.shape)\n",
        "X=Data[:,np.arange(Data.shape[1])!=468]\n",
        "y=Data[:,468]\n",
        "print (y)\n",
        "X_train, X_test, y_train, y_test = train_test_split(X, y, test_size=0.2)"
      ],
      "execution_count": 3,
      "outputs": [
        {
          "output_type": "stream",
          "text": [
            "(61566, 473)\n",
            "[0. 0. 0. ... 5. 5. 5.]\n"
          ],
          "name": "stdout"
        }
      ]
    },
    {
      "metadata": {
        "id": "ECbcO3mmCkVP",
        "colab_type": "code",
        "colab": {
          "base_uri": "https://localhost:8080/",
          "height": 34
        },
        "outputId": "9cb97eff-3ae3-42d7-d739-e3c1fc1e6d65"
      },
      "cell_type": "code",
      "source": [
        "from keras.layers import Dense\n",
        "from keras.layers import BatchNormalization\n",
        "from keras.layers import Input\n",
        "from keras.layers import Dropout\n",
        "from keras.layers import Activation\n",
        "from keras.models import Model\n",
        "from keras.losses import categorical_crossentropy\n",
        "import numpy as np\n",
        "from keras.optimizers import Adam\n",
        "from keras.utils import to_categorical\n",
        "class DNN:\n",
        "    \"\"\"\n",
        "    Class to construct Fully Connected Deep Networks\n",
        "    \"\"\"\n",
        "    def __init__(self, config):\n",
        "        \"\"\"\n",
        "\n",
        "        :param config: Dictionary of network configurations\n",
        "        \"\"\"\n",
        "        self.input_shape = config['Input_shape']\n",
        "        self.layer_shapes = config['layer_shapes']\n",
        "        self.activation = config['Activation']\n",
        "        self.output = config['Output']\n",
        "        self.weights=config['Weights']\n",
        "        self.config=config\n",
        "        self.model=self.construct_fc_model()\n",
        "        self.compile()\n",
        "        if self.weights:\n",
        "            self.load_weights()\n",
        "\n",
        "    def construct_fc_model(self):\n",
        "        \"\"\"\n",
        "        Constructs a Fully Connected model\n",
        "        :return: Model object of keras\n",
        "        \"\"\"\n",
        "        input_layer = Input(shape=(self.input_shape,))\n",
        "        layer = input_layer\n",
        "        layer = BatchNormalization()(layer)\n",
        "        for layer_neurons in self.layer_shapes:\n",
        "            layer = Dense(layer_neurons)(layer)\n",
        "            layer=Activation('relu')(layer)\n",
        "            layer = BatchNormalization()(layer)\n",
        "            layer = Dropout(self.config['dropout'])(layer)\n",
        "        layer = Dense(self.output,activation='softmax')(layer)\n",
        "        return Model(input_layer, layer)\n",
        "      \n",
        "    def load_weights(self):\n",
        "        \"\"\"\n",
        "        Load weights into a model\n",
        "        :return: Nothing\n",
        "        \"\"\"\n",
        "        self.model.load_weights(self.weights)\n",
        "\n",
        "    def predict(self, input):\n",
        "        \"\"\"\n",
        "        Returns the predicted label\n",
        "        \"\"\"\n",
        "        return self.model.predict(np.atleast_2d(input))\n",
        "    def compile(self):\n",
        "      self.model.compile(loss=categorical_crossentropy,optimizer=Adam(0.001,decay=1e-4),metrics=['acc'])"
      ],
      "execution_count": 4,
      "outputs": [
        {
          "output_type": "stream",
          "text": [
            "Using TensorFlow backend.\n"
          ],
          "name": "stderr"
        }
      ]
    },
    {
      "metadata": {
        "id": "0JPY_xbJ8uDD",
        "colab_type": "code",
        "colab": {}
      },
      "cell_type": "code",
      "source": [
        "nn_config={'layer_shapes':[500,500,500],'Activation':'relu','Output':6,\n",
        "           'Input_shape':472,'dropout':0.2,'Weights':None}\n",
        "Network=DNN(nn_config)"
      ],
      "execution_count": 0,
      "outputs": []
    },
    {
      "metadata": {
        "id": "CWoY2Cwn9T4c",
        "colab_type": "code",
        "outputId": "15510c29-d107-4752-93d1-501cf2381ae0",
        "colab": {
          "base_uri": "https://localhost:8080/",
          "height": 34
        }
      },
      "cell_type": "code",
      "source": [
        "Network.model.fit(X_train,to_categorical(y_train),epochs=800,batch_size=len(X_train),verbose=0)"
      ],
      "execution_count": 33,
      "outputs": [
        {
          "output_type": "execute_result",
          "data": {
            "text/plain": [
              "<keras.callbacks.History at 0x7fafbc456b70>"
            ]
          },
          "metadata": {
            "tags": []
          },
          "execution_count": 33
        }
      ]
    },
    {
      "metadata": {
        "id": "wC5P6OFNzpKL",
        "colab_type": "code",
        "outputId": "30529930-22ab-4c8e-aad0-bc2eecac0794",
        "colab": {
          "base_uri": "https://localhost:8080/",
          "height": 51
        }
      },
      "cell_type": "code",
      "source": [
        "Network.model.evaluate(X_train,to_categorical(y_train),batch_size=len(X_train))"
      ],
      "execution_count": 34,
      "outputs": [
        {
          "output_type": "stream",
          "text": [
            "\r49252/49252 [==============================] - 0s 10us/step\n"
          ],
          "name": "stdout"
        },
        {
          "output_type": "execute_result",
          "data": {
            "text/plain": [
              "[0.029831910505890846, 0.9868837594985962]"
            ]
          },
          "metadata": {
            "tags": []
          },
          "execution_count": 34
        }
      ]
    },
    {
      "metadata": {
        "id": "Byg3jn0f3uCg",
        "colab_type": "code",
        "colab": {}
      },
      "cell_type": "code",
      "source": [
        "y_pred=Network.model.predict(X_test).argmax(axis=-1)"
      ],
      "execution_count": 0,
      "outputs": []
    },
    {
      "metadata": {
        "id": "GmVSOhl09EyI",
        "colab_type": "code",
        "outputId": "a0425038-f669-4cf5-9bd7-413ac85a152a",
        "colab": {
          "base_uri": "https://localhost:8080/",
          "height": 153
        }
      },
      "cell_type": "code",
      "source": [
        "from sklearn.metrics import confusion_matrix\n",
        "from sklearn.metrics import f1_score\n",
        "from sklearn.metrics import accuracy_score\n",
        "print ('F1_score',f1_score(y_true=y_test,y_pred=y_pred,average='macro'))\n",
        "print (confusion_matrix(y_true=y_test,y_pred=y_pred))\n",
        "print (accuracy_score(y_true=y_test,y_pred=y_pred))"
      ],
      "execution_count": 31,
      "outputs": [
        {
          "output_type": "stream",
          "text": [
            "F1_score 0.8601157532652438\n",
            "[[1865    8   61   74    0    0]\n",
            " [  15 1837   84   60   23   37]\n",
            " [  66   49 1564  111  134  110]\n",
            " [  66   55  112 1583  151  136]\n",
            " [   0   21   91   88 1882   30]\n",
            " [   0   19   50   59    9 1864]]\n",
            "0.8604027935682963\n"
          ],
          "name": "stdout"
        }
      ]
    },
    {
      "metadata": {
        "id": "pV9h-hvm_cVB",
        "colab_type": "code",
        "colab": {
          "base_uri": "https://localhost:8080/",
          "height": 190
        },
        "outputId": "ab5d2a5e-852c-42f3-a43b-3062f6f9960f"
      },
      "cell_type": "code",
      "source": [
        "from sklearn.ensemble import RandomForestClassifier\n",
        "R=RandomForestClassifier()\n",
        "R.fit(X_train,y_train)"
      ],
      "execution_count": 20,
      "outputs": [
        {
          "output_type": "stream",
          "text": [
            "/usr/local/lib/python3.6/dist-packages/sklearn/ensemble/forest.py:246: FutureWarning: The default value of n_estimators will change from 10 in version 0.20 to 100 in 0.22.\n",
            "  \"10 in version 0.20 to 100 in 0.22.\", FutureWarning)\n"
          ],
          "name": "stderr"
        },
        {
          "output_type": "execute_result",
          "data": {
            "text/plain": [
              "RandomForestClassifier(bootstrap=True, class_weight=None, criterion='gini',\n",
              "            max_depth=None, max_features='auto', max_leaf_nodes=None,\n",
              "            min_impurity_decrease=0.0, min_impurity_split=None,\n",
              "            min_samples_leaf=1, min_samples_split=2,\n",
              "            min_weight_fraction_leaf=0.0, n_estimators=10, n_jobs=None,\n",
              "            oob_score=False, random_state=None, verbose=0,\n",
              "            warm_start=False)"
            ]
          },
          "metadata": {
            "tags": []
          },
          "execution_count": 20
        }
      ]
    },
    {
      "metadata": {
        "id": "j933q6RXUpQd",
        "colab_type": "code",
        "colab": {
          "base_uri": "https://localhost:8080/",
          "height": 153
        },
        "outputId": "fe7c90c8-2d68-4f67-a558-7341226dcdfe"
      },
      "cell_type": "code",
      "source": [
        "y_pred=R.predict(X_train)\n",
        "print ('F1_score',f1_score(y_true=y_train,y_pred=y_pred,average='macro'))\n",
        "print (confusion_matrix(y_true=y_train,y_pred=y_pred))\n",
        "print (accuracy_score(y_true=y_train,y_pred=y_pred))"
      ],
      "execution_count": 23,
      "outputs": [
        {
          "output_type": "stream",
          "text": [
            "F1_score 0.9927719359928268\n",
            "[[8242    0    4    7    0    0]\n",
            " [   6 8186    3    5    2    3]\n",
            " [   9    7 8169    7   23   12]\n",
            " [  17   11   12 7999   59   60]\n",
            " [   0    3   12   39 8094    1]\n",
            " [   0    6    5   28   14 8207]]\n",
            "0.9927921708763096\n"
          ],
          "name": "stdout"
        }
      ]
    },
    {
      "metadata": {
        "id": "KMMp5wrbVEjw",
        "colab_type": "code",
        "colab": {
          "base_uri": "https://localhost:8080/",
          "height": 153
        },
        "outputId": "25ec513a-bb91-401c-d0bf-69b1c72907e7"
      },
      "cell_type": "code",
      "source": [
        "y_pred=R.predict(X_test)\n",
        "print ('F1_score',f1_score(y_true=y_test,y_pred=y_pred,average='macro'))\n",
        "print (confusion_matrix(y_true=y_test,y_pred=y_pred))\n",
        "print (accuracy_score(y_true=y_test,y_pred=y_pred))"
      ],
      "execution_count": 25,
      "outputs": [
        {
          "output_type": "stream",
          "text": [
            "F1_score 0.8362532226193243\n",
            "[[1928    1   52   27    0    0]\n",
            " [  23 1839   51   62   41   40]\n",
            " [  73   86 1495  114  146  120]\n",
            " [  81  130  162 1398  177  155]\n",
            " [   1   36   96  100 1851   28]\n",
            " [   0   36   61   59   34 1811]]\n",
            "0.8382329056358616\n"
          ],
          "name": "stdout"
        }
      ]
    },
    {
      "metadata": {
        "id": "eMtKRhqpVvpC",
        "colab_type": "code",
        "colab": {}
      },
      "cell_type": "code",
      "source": [
        ""
      ],
      "execution_count": 0,
      "outputs": []
    }
  ]
}