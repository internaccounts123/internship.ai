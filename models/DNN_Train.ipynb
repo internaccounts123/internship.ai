{
 "cells": [
  {
   "cell_type": "code",
   "execution_count": 1,
   "metadata": {},
   "outputs": [
    {
     "name": "stderr",
     "output_type": "stream",
     "text": [
      "C:\\ProgramData\\Anaconda2\\envs\\py3\\lib\\site-packages\\h5py\\__init__.py:34: FutureWarning: Conversion of the second argument of issubdtype from `float` to `np.floating` is deprecated. In future, it will be treated as `np.float64 == np.dtype(float).type`.\n",
      "  from ._conv import register_converters as _register_converters\n",
      "Using TensorFlow backend.\n"
     ]
    }
   ],
   "source": [
    "import pandas as pd\n",
    "import os\n",
    "import sys\n",
    "import json\n",
    "import numpy as np\n",
    "import tensorflow as tf\n",
    "import keras.layers as L\n",
    "import keras.activations as A\n",
    "import keras.optimizers as O\n",
    "import keras.losses as Loss\n",
    "from keras.models import Model\n",
    "import keras.backend as KB"
   ]
  },
  {
   "cell_type": "code",
   "execution_count": 2,
   "metadata": {
    "collapsed": true
   },
   "outputs": [],
   "source": [
    "ROOTDIR=os.path.abspath(\"../\")\n",
    "sys.path.append(ROOTDIR)"
   ]
  },
  {
   "cell_type": "code",
   "execution_count": 3,
   "metadata": {},
   "outputs": [],
   "source": [
    "from Preprocessing.Preprocessor import preprocessor\n",
    "from data_utils.keras_generator import Generator"
   ]
  },
  {
   "cell_type": "code",
   "execution_count": 4,
   "metadata": {
    "collapsed": true
   },
   "outputs": [],
   "source": [
    "label_encoder_dir=os.path.join(ROOTDIR,\"Preprocessing\")\n",
    "data_dir=os.path.join(ROOTDIR,\"Data\")"
   ]
  },
  {
   "cell_type": "code",
   "execution_count": 5,
   "metadata": {
    "collapsed": true
   },
   "outputs": [],
   "source": [
    "P=preprocessor(label_encoder_dir)\n",
    "p_config={'labels':6,\n",
    "        'weightage':[1,1,1,1,1,1],\n",
    "        'data_directory':data_dir,\n",
    "        'file_batch_size':10,\n",
    "        'format_':'h5',\n",
    "        'ex_batch_size':10,\n",
    "        'file_examples':25000,\n",
    "        'Preprocessor':P,\n",
    "        'static_weightage':False}"
   ]
  },
  {
   "cell_type": "code",
   "execution_count": 6,
   "metadata": {},
   "outputs": [],
   "source": [
    "G=Generator(config=p_config)"
   ]
  },
  {
   "cell_type": "code",
   "execution_count": 7,
   "metadata": {},
   "outputs": [],
   "source": [
    "def custom_loss(y,x):\n",
    "   \"\"\"\n",
    "\n",
    "   Params:\n",
    "       x:Tensor of shape(num_examples,num actions). It represents the probabilities\n",
    "       y:one hot  shape=(num_examples,num actions)\n",
    "   \"\"\"\n",
    "   weightages=KB.sum(y,axis=0,keepdims=True)/ tf.cast(KB.shape(y)[0],tf.float32)\n",
    "   weightages=weightages*tf.cast(y,tf.float32)\n",
    "   weightages=KB.sum(weightages,axis=1)\n",
    "   loss=tf.losses.softmax_cross_entropy(y,x,weights=weightages)\n",
    "   return loss"
   ]
  },
  {
   "cell_type": "code",
   "execution_count": 8,
   "metadata": {},
   "outputs": [],
   "source": [
    "class FC_Model():\n",
    "    def __init__(self,config):\n",
    "        self.config=config\n",
    "        self.Neurons=config['Hidden']\n",
    "        self.activation=config['Activation']\n",
    "        self.output=config['Output']\n",
    "        self.input_dim=config['Input_shape']\n",
    "        self.optimizer=config['Optimizer']\n",
    "        self.model=self.make_model()\n",
    "        self.loss(config['loss'])\n",
    "    def make_model(self):\n",
    "        x=L.Input(shape=(self.input_dim,))\n",
    "        inp=x\n",
    "        for i in self.Neurons:\n",
    "            x=L.Dense(i)(x)\n",
    "            x=L.BatchNormalization()(x)\n",
    "            x=L.Activation(\"relu\")(x)\n",
    "        x=L.Dense(self.output,activation='softmax')(x)\n",
    "        return Model(inp,x)\n",
    "    def loss(self,loss):\n",
    "        self.model.compile(loss=loss, optimizer=self.optimizer,metrics=[\"acc\"])\n",
    "    def fit(self,generator):\n",
    "        self.model.fit_generator(generator= generator, \n",
    "                    steps_per_epoch  = len(generator), \n",
    "                    epochs           = self.config['epochs'], \n",
    "                    verbose          = 1,\n",
    "#                     validation_data  = valid_batch,\n",
    "#                     validation_steps = len(valid_batch),\n",
    "                    max_queue_size   = 3)        "
   ]
  },
  {
   "cell_type": "code",
   "execution_count": 10,
   "metadata": {},
   "outputs": [],
   "source": [
    "n_config={'Hidden':[200],\n",
    "          'Activation':'relu',\n",
    "          'Output':p_config['labels'],\n",
    "          'Optimizer':O.Adam(lr=0.0001),\n",
    "          'Input_shape':477,'epochs':1 ,\n",
    "          'loss':custom_loss}\n",
    "model=FC_Model(n_config)"
   ]
  },
  {
   "cell_type": "code",
   "execution_count": 12,
   "metadata": {
    "scrolled": true
   },
   "outputs": [
    {
     "name": "stdout",
     "output_type": "stream",
     "text": [
      "Epoch 1/1\n"
     ]
    },
    {
     "name": "stderr",
     "output_type": "stream",
     "text": [
      "C:\\ProgramData\\Anaconda2\\envs\\py3\\lib\\site-packages\\sklearn\\base.py:311: UserWarning: Trying to unpickle estimator LabelEncoder from version 0.20.1 when using version 0.19.1. This might lead to breaking code or invalid results. Use at your own risk.\n",
      "  UserWarning)\n"
     ]
    },
    {
     "name": "stdout",
     "output_type": "stream",
     "text": [
      "(25000, 478)\n",
      "2500/2500 [==============================] - 33s 13ms/step - loss: 0.5526 - acc: 0.7449\n"
     ]
    }
   ],
   "source": [
    "model.fit(generator=G)"
   ]
  }
 ],
 "metadata": {
  "kernelspec": {
   "display_name": "Python 3",
   "language": "python",
   "name": "python3"
  },
  "language_info": {
   "codemirror_mode": {
    "name": "ipython",
    "version": 3
   },
   "file_extension": ".py",
   "mimetype": "text/x-python",
   "name": "python",
   "nbconvert_exporter": "python",
   "pygments_lexer": "ipython3",
   "version": "3.6.3"
  }
 },
 "nbformat": 4,
 "nbformat_minor": 1
}
