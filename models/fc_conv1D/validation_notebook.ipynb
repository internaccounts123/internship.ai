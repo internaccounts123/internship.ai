{
 "cells": [
  {
   "cell_type": "code",
   "execution_count": 1,
   "metadata": {
    "scrolled": true
   },
   "outputs": [
    {
     "name": "stderr",
     "output_type": "stream",
     "text": [
      "/home/ai-trainingmachine/anaconda3/envs/tf_gpu/lib/python3.5/site-packages/h5py/__init__.py:36: FutureWarning: Conversion of the second argument of issubdtype from `float` to `np.floating` is deprecated. In future, it will be treated as `np.float64 == np.dtype(float).type`.\n",
      "  from ._conv import register_converters as _register_converters\n",
      "Using TensorFlow backend.\n"
     ]
    }
   ],
   "source": [
    "import pandas as pd\n",
    "import os\n",
    "import sys\n",
    "import json\n",
    "import numpy as np\n",
    "import tensorflow as tf\n",
    "import keras.layers as L\n",
    "import keras.activations as A\n",
    "import keras.optimizers as O\n",
    "import keras.losses as Loss\n",
    "from keras.models import Model\n",
    "from keras.callbacks import TensorBoard\n",
    "from keras.callbacks import ModelCheckpoint\n",
    "from keras import backend as KB\n",
    "from keras.callbacks import Callback\n",
    "import time\n",
    "from fc_conv import FC_CONV\n",
    "\n",
    "ROOTDIR=os.path.abspath(\"../../\")\n",
    "sys.path.append(ROOTDIR)\n",
    "\n",
    "from Preprocessing.Preprocessor import preprocessor\n",
    "from data_utils.keras_generator import Generator\n",
    "from utils.losses import weighted_cross_entropy_loss,f1_score_metric\n",
    "from utils.callbacks import get_tensorboard_callback,get_checkpoint_call_back\n",
    "from utils.tools import construct_model_from_csv\n",
    "from models.BaseModel import Base_Model\n",
    "\n",
    "\n",
    "\n",
    "from sklearn.metrics import confusion_matrix\n",
    "from sklearn.metrics import f1_score\n",
    "from fc_conv import FC_CONV\n"
   ]
  },
  {
   "cell_type": "code",
   "execution_count": 2,
   "metadata": {},
   "outputs": [],
   "source": [
    "label_encoder_dir=os.path.join(ROOTDIR,\"Preprocessing\")\n",
    "val_data_dir=r'/home/ai-trainingmachine/Desktop/Usman/internship.ai/val_data'"
   ]
  },
  {
   "cell_type": "code",
   "execution_count": 3,
   "metadata": {},
   "outputs": [
    {
     "name": "stderr",
     "output_type": "stream",
     "text": [
      "/home/ai-trainingmachine/anaconda3/envs/tf_gpu/lib/python3.5/site-packages/sklearn/base.py:311: UserWarning: Trying to unpickle estimator LabelEncoder from version 0.20.1 when using version 0.19.1. This might lead to breaking code or invalid results. Use at your own risk.\n",
      "  UserWarning)\n"
     ]
    }
   ],
   "source": [
    "val_files=os.listdir(val_data_dir)\n",
    "array=pd.read_hdf(os.path.join(val_data_dir,val_files[0]))\n",
    "P=preprocessor(label_encoder_dir)\n",
    "array=P.process_batch(array)\n",
    "action_col=array.columns=='action'\n",
    "g_config={'labels':6,\n",
    "        'weightage':[1,1,1,1,1,1],\n",
    "        'data_directory':val_data_dir,\n",
    "        'file_batch_size':119,\n",
    "        'format_':'h5',\n",
    "        'ex_batch_size':10000,\n",
    "        'file_examples':5000,\n",
    "        'max_queue_size':1,\n",
    "        'Preprocessor':P,\n",
    "        'static_weightage':False,\n",
    "         'action_col':action_col}\n",
    "\n",
    "G=Generator(config=g_config)\n"
   ]
  },
  {
   "cell_type": "code",
   "execution_count": 4,
   "metadata": {},
   "outputs": [],
   "source": [
    "# nn_config={'layer_shapes':[300,300,300,100,50],'Activation':'relu','Output':6,'Input_shape':472, 'model_type':'fc'}\n",
    "# my_model=Model(nn_config) \n",
    "# f1=f1_score_metric(6)\n",
    "# my_model.model.compile(loss=weighted_cross_entropy_loss, optimizer=optimizers.Adam(lr=5e-4),metrics=[\"acc\",f1])"
   ]
  },
  {
   "cell_type": "code",
   "execution_count": 4,
   "metadata": {},
   "outputs": [
    {
     "name": "stdout",
     "output_type": "stream",
     "text": [
      "__________________________________________________________________________________________________\n",
      "Layer (type)                    Output Shape         Param #     Connected to                     \n",
      "==================================================================================================\n",
      "input_1 (InputLayer)            (None, 155, 3, 1)    0                                            \n",
      "__________________________________________________________________________________________________\n",
      "conv2d_1 (Conv2D)               (None, 155, 3, 64)   640         input_1[0][0]                    \n",
      "__________________________________________________________________________________________________\n",
      "batch_normalization_1 (BatchNor (None, 155, 3, 64)   256         conv2d_1[0][0]                   \n",
      "__________________________________________________________________________________________________\n",
      "activation_1 (Activation)       (None, 155, 3, 64)   0           batch_normalization_1[0][0]      \n",
      "__________________________________________________________________________________________________\n",
      "conv2d_2 (Conv2D)               (None, 155, 3, 32)   18464       activation_1[0][0]               \n",
      "__________________________________________________________________________________________________\n",
      "input_2 (InputLayer)            (None, 7)            0                                            \n",
      "__________________________________________________________________________________________________\n",
      "batch_normalization_2 (BatchNor (None, 155, 3, 32)   128         conv2d_2[0][0]                   \n",
      "__________________________________________________________________________________________________\n",
      "dense_1 (Dense)                 (None, 256)          2048        input_2[0][0]                    \n",
      "__________________________________________________________________________________________________\n",
      "activation_2 (Activation)       (None, 155, 3, 32)   0           batch_normalization_2[0][0]      \n",
      "__________________________________________________________________________________________________\n",
      "batch_normalization_4 (BatchNor (None, 256)          1024        dense_1[0][0]                    \n",
      "__________________________________________________________________________________________________\n",
      "conv2d_3 (Conv2D)               (None, 155, 3, 16)   4624        activation_2[0][0]               \n",
      "__________________________________________________________________________________________________\n",
      "activation_4 (Activation)       (None, 256)          0           batch_normalization_4[0][0]      \n",
      "__________________________________________________________________________________________________\n",
      "batch_normalization_3 (BatchNor (None, 155, 3, 16)   64          conv2d_3[0][0]                   \n",
      "__________________________________________________________________________________________________\n",
      "dense_2 (Dense)                 (None, 128)          32896       activation_4[0][0]               \n",
      "__________________________________________________________________________________________________\n",
      "activation_3 (Activation)       (None, 155, 3, 16)   0           batch_normalization_3[0][0]      \n",
      "__________________________________________________________________________________________________\n",
      "batch_normalization_5 (BatchNor (None, 128)          512         dense_2[0][0]                    \n",
      "__________________________________________________________________________________________________\n",
      "flatten_1 (Flatten)             (None, 7440)         0           activation_3[0][0]               \n",
      "__________________________________________________________________________________________________\n",
      "activation_5 (Activation)       (None, 128)          0           batch_normalization_5[0][0]      \n",
      "__________________________________________________________________________________________________\n",
      "concatenate_1 (Concatenate)     (None, 7568)         0           flatten_1[0][0]                  \n",
      "                                                                 activation_5[0][0]               \n",
      "__________________________________________________________________________________________________\n",
      "dense_3 (Dense)                 (None, 200)          1513800     concatenate_1[0][0]              \n",
      "__________________________________________________________________________________________________\n",
      "batch_normalization_6 (BatchNor (None, 200)          800         dense_3[0][0]                    \n",
      "__________________________________________________________________________________________________\n",
      "activation_6 (Activation)       (None, 200)          0           batch_normalization_6[0][0]      \n",
      "__________________________________________________________________________________________________\n",
      "dense_4 (Dense)                 (None, 6)            1206        activation_6[0][0]               \n",
      "==================================================================================================\n",
      "Total params: 1,576,462\n",
      "Trainable params: 1,575,070\n",
      "Non-trainable params: 1,392\n",
      "__________________________________________________________________________________________________\n"
     ]
    },
    {
     "name": "stderr",
     "output_type": "stream",
     "text": [
      "/home/ai-trainingmachine/Desktop/Armughanisback/internship.ai-feature-FC_CONV_model/models/fc_conv/fc_conv.py:48: UserWarning: Update your `Model` call to the Keras 2 API: `Model(outputs=Tensor(\"de..., inputs=[<tf.Tenso...)`\n",
      "  self.Model=Model(inputs=[conv_input,scalar_features],output=logits)\n"
     ]
    }
   ],
   "source": [
    "input_shape=[(155,3),(7,)]\n",
    "num_outputs=6\n",
    "optimizer=O.Adam(lr=0.0001)\n",
    "design_config_files=[\"conv_net.csv\",\"fc_net.csv\",\"merged_net.csv\"]\n",
    "model=FC_CONV(input_shape=input_shape,num_outputs=num_outputs,\n",
    "        optimizer=optimizer,arch_config_files=design_config_files)\n",
    "model.construct_model()"
   ]
  },
  {
   "cell_type": "code",
   "execution_count": 5,
   "metadata": {},
   "outputs": [
    {
     "name": "stderr",
     "output_type": "stream",
     "text": [
      "/home/ai-trainingmachine/anaconda3/envs/tf_gpu/lib/python3.5/site-packages/sklearn/base.py:311: UserWarning: Trying to unpickle estimator LabelEncoder from version 0.20.1 when using version 0.19.1. This might lead to breaking code or invalid results. Use at your own risk.\n",
      "  UserWarning)\n"
     ]
    },
    {
     "name": "stdout",
     "output_type": "stream",
     "text": [
      "File No: 0\n",
      "File No: 1\n",
      "File No: 2\n",
      "File No: 3\n",
      "File No: 4\n",
      "File No: 5\n",
      "File No: 6\n",
      "File No: 7\n",
      "File No: 8\n",
      "File No: 9\n",
      "File No: 10\n",
      "File No: 11\n",
      "File No: 12\n",
      "File No: 13\n",
      "File No: 14\n",
      "File No: 15\n",
      "File No: 16\n",
      "File No: 17\n",
      "File No: 18\n",
      "File No: 19\n",
      "File No: 20\n",
      "File No: 21\n",
      "File No: 22\n",
      "File No: 23\n",
      "File No: 24\n",
      "File No: 25\n",
      "File No: 26\n",
      "File No: 27\n",
      "File No: 28\n",
      "File No: 29\n",
      "File No: 30\n",
      "File No: 31\n",
      "File No: 32\n",
      "File No: 33\n",
      "File No: 34\n",
      "File No: 35\n",
      "File No: 36\n",
      "File No: 37\n",
      "File No: 38\n",
      "File No: 39\n",
      "File No: 40\n",
      "File No: 41\n",
      "File No: 42\n",
      "File No: 43\n",
      "File No: 44\n",
      "File No: 45\n",
      "File No: 46\n",
      "File No: 47\n",
      "File No: 48\n",
      "File No: 49\n",
      "File No: 50\n",
      "File No: 51\n",
      "File No: 52\n",
      "File No: 53\n",
      "File No: 54\n",
      "File No: 55\n",
      "File No: 56\n",
      "File No: 57\n",
      "File No: 58\n",
      "File No: 59\n",
      "File No: 60\n",
      "File No: 61\n",
      "File No: 62\n",
      "File No: 63\n",
      "File No: 64\n",
      "File No: 65\n",
      "File No: 66\n",
      "File No: 67\n",
      "File No: 68\n",
      "File No: 69\n",
      "File No: 70\n",
      "File No: 71\n",
      "File No: 72\n",
      "File No: 73\n",
      "File No: 74\n",
      "File No: 75\n",
      "File No: 76\n",
      "File No: 77\n",
      "File No: 78\n",
      "File No: 79\n",
      "File No: 80\n",
      "File No: 81\n",
      "File No: 82\n",
      "File No: 83\n",
      "File No: 84\n",
      "File No: 85\n",
      "File No: 86\n",
      "File No: 87\n",
      "File No: 88\n",
      "File No: 89\n",
      "File No: 90\n",
      "File No: 91\n",
      "File No: 92\n",
      "File No: 93\n",
      "File No: 94\n",
      "File No: 95\n",
      "File No: 96\n",
      "File No: 97\n",
      "File No: 98\n",
      "File No: 99\n",
      "File No: 100\n",
      "File No: 101\n",
      "File No: 102\n",
      "File No: 103\n",
      "File No: 104\n",
      "File No: 105\n",
      "File No: 106\n",
      "File No: 107\n",
      "File No: 108\n",
      "File No: 109\n",
      "File No: 110\n",
      "File No: 111\n",
      "File No: 112\n",
      "File No: 113\n",
      "File No: 114\n",
      "File No: 115\n",
      "File No: 116\n",
      "File No: 117\n",
      "File No: 118\n"
     ]
    }
   ],
   "source": [
    "G.generate()"
   ]
  },
  {
   "cell_type": "code",
   "execution_count": 6,
   "metadata": {},
   "outputs": [],
   "source": [
    "model.Model.load_weights(r'/home/ai-trainingmachine/Desktop/Armughanisback/internship.ai-feature-FC_CONV_model/checkpoints/FC_CONV_chkpoint__04.hdf5')"
   ]
  },
  {
   "cell_type": "code",
   "execution_count": 14,
   "metadata": {},
   "outputs": [],
   "source": [
    "def convert_data(data):\n",
    "    x=data\n",
    "    ob_net=(x[:,2:467]).reshape(-1,155,3)\n",
    "    num_cols=x.shape[1]\n",
    "\n",
    "    scalar_features_col_mask=np.arange(num_cols)\n",
    "    scalar_features_col_mask=(scalar_features_col_mask<2 ) |(scalar_features_col_mask>=467 )\n",
    "    scalar_features=x[:,scalar_features_col_mask]\n",
    "    return ob_net,scalar_features"
   ]
  },
  {
   "cell_type": "code",
   "execution_count": 12,
   "metadata": {},
   "outputs": [
    {
     "data": {
      "text/plain": [
       "array([[-0.8985783 , -0.45257503, -0.5225416 , ..., -0.99999624,\n",
       "         0.6022154 ,  0.70314795],\n",
       "       [-1.3366468 , -0.45257503,  0.06798026, ..., -0.99999624,\n",
       "        -0.15361218,  0.6100561 ],\n",
       "       [-1.3366468 , -0.45257503, -0.5225416 , ..., -0.99999624,\n",
       "         0.6022154 , -1.6098897 ],\n",
       "       ...,\n",
       "       [-0.02200311, -0.45257503,  0.06798026, ..., -0.99999624,\n",
       "         0.6022154 ,  1.665315  ],\n",
       "       [-0.8985783 , -0.45257503, -0.5225416 , ..., -0.99999624,\n",
       "        -0.9094398 ,  1.3348923 ],\n",
       "       [-1.3366468 , -0.45257503, -0.5225416 , ..., -0.99999624,\n",
       "        -0.9094398 , -0.46113282]], dtype=float32)"
      ]
     },
     "execution_count": 12,
     "metadata": {},
     "output_type": "execute_result"
    }
   ],
   "source": [
    "G[0][0]"
   ]
  },
  {
   "cell_type": "code",
   "execution_count": 17,
   "metadata": {},
   "outputs": [
    {
     "name": "stdout",
     "output_type": "stream",
     "text": [
      "59\n",
      "(10000, 472)\n",
      "0\n",
      "(10000, 472)\n",
      "1\n",
      "(10000, 472)\n",
      "2\n",
      "(10000, 472)\n",
      "3\n",
      "(10000, 472)\n",
      "4\n",
      "(10000, 472)\n",
      "5\n",
      "(10000, 472)\n",
      "6\n",
      "(10000, 472)\n",
      "7\n",
      "(10000, 472)\n",
      "8\n",
      "(10000, 472)\n",
      "9\n",
      "(10000, 472)\n",
      "10\n",
      "(10000, 472)\n",
      "11\n",
      "(10000, 472)\n",
      "12\n",
      "(10000, 472)\n",
      "13\n",
      "(10000, 472)\n",
      "14\n",
      "(10000, 472)\n",
      "15\n",
      "(10000, 472)\n",
      "16\n",
      "(10000, 472)\n",
      "17\n",
      "(10000, 472)\n",
      "18\n",
      "(10000, 472)\n",
      "19\n",
      "(10000, 472)\n",
      "20\n",
      "(10000, 472)\n",
      "21\n",
      "(10000, 472)\n",
      "22\n",
      "(10000, 472)\n",
      "23\n",
      "(10000, 472)\n",
      "24\n",
      "(10000, 472)\n",
      "25\n",
      "(10000, 472)\n",
      "26\n",
      "(10000, 472)\n",
      "27\n",
      "(10000, 472)\n",
      "28\n",
      "(10000, 472)\n",
      "29\n",
      "(10000, 472)\n",
      "30\n",
      "(10000, 472)\n",
      "31\n",
      "(10000, 472)\n",
      "32\n",
      "(10000, 472)\n",
      "33\n",
      "(10000, 472)\n",
      "34\n",
      "(10000, 472)\n",
      "35\n",
      "(10000, 472)\n",
      "36\n",
      "(10000, 472)\n",
      "37\n",
      "(10000, 472)\n",
      "38\n",
      "(10000, 472)\n",
      "39\n",
      "(10000, 472)\n",
      "40\n",
      "(10000, 472)\n",
      "41\n",
      "(10000, 472)\n",
      "42\n",
      "(10000, 472)\n",
      "43\n",
      "(10000, 472)\n",
      "44\n",
      "(10000, 472)\n",
      "45\n",
      "(10000, 472)\n",
      "46\n",
      "(10000, 472)\n",
      "47\n",
      "(10000, 472)\n",
      "48\n",
      "(10000, 472)\n",
      "49\n",
      "(10000, 472)\n",
      "50\n",
      "(10000, 472)\n",
      "51\n",
      "(5000, 472)\n",
      "52\n",
      "(10000, 472)\n",
      "53\n",
      "(10000, 472)\n",
      "54\n",
      "(10000, 472)\n",
      "55\n",
      "(10000, 472)\n",
      "56\n",
      "(10000, 472)\n",
      "57\n",
      "(10000, 472)\n",
      "58\n"
     ]
    },
    {
     "data": {
      "text/plain": [
       "array([[     0,   1151,      0,      0,      0,      0],\n",
       "       [     2, 269124,      0,      0,      0,      0],\n",
       "       [    21, 126011,      0,      0,      0,      0],\n",
       "       [     3, 186491,      0,      0,      0,      0],\n",
       "       [     0,   1189,      0,      0,      0,      0],\n",
       "       [     0,   1008,      0,      0,      0,      0]])"
      ]
     },
     "execution_count": 17,
     "metadata": {},
     "output_type": "execute_result"
    }
   ],
   "source": [
    "true_actions=[]\n",
    "pred_actions=[]\n",
    "print (len(G))\n",
    "for i in range(len(G)):\n",
    "    data,actions=G[i]\n",
    "    print (data.shape)\n",
    "    obnet,scalars=convert_data(data)\n",
    "    true_actions.extend(np.argmax(actions,axis=1))\n",
    "    pred_actions.extend(np.argmax(model.Model.predict([obnet,scalars]),axis=1))\n",
    "    print (i)\n",
    "confusion_matrix(true_actions,pred_actions)"
   ]
  },
  {
   "cell_type": "code",
   "execution_count": 18,
   "metadata": {},
   "outputs": [
    {
     "name": "stdout",
     "output_type": "stream",
     "text": [
      "0.4600410256410256\n"
     ]
    }
   ],
   "source": [
    "print (np.mean(true_actions==np.array(pred_actions).astype(int)))"
   ]
  },
  {
   "cell_type": "code",
   "execution_count": 19,
   "metadata": {},
   "outputs": [
    {
     "name": "stdout",
     "output_type": "stream",
     "text": [
      "0.4600410256410256\n",
      "0.10503219763493737\n",
      "0.28991687405846317\n"
     ]
    },
    {
     "name": "stderr",
     "output_type": "stream",
     "text": [
      "/home/ai-trainingmachine/anaconda3/envs/tf_gpu/lib/python3.5/site-packages/sklearn/metrics/classification.py:1135: UndefinedMetricWarning: F-score is ill-defined and being set to 0.0 in labels with no predicted samples.\n",
      "  'precision', 'predicted', average, warn_for)\n"
     ]
    }
   ],
   "source": [
    "print (f1_score(true_actions,pred_actions,average='micro'))\n",
    "print (f1_score(true_actions,pred_actions,average='macro'))\n",
    "# print (f1_score(true_actions,pred_actions,average='samples'))\n",
    "print (f1_score(true_actions,pred_actions,average='weighted'))"
   ]
  },
  {
   "cell_type": "code",
   "execution_count": 9,
   "metadata": {},
   "outputs": [
    {
     "data": {
      "text/plain": [
       "(array([0, 1, 2, 3, 4, 5]),\n",
       " array([   478, 115307,  53240,  80008,    517,    450]))"
      ]
     },
     "execution_count": 9,
     "metadata": {},
     "output_type": "execute_result"
    }
   ],
   "source": [
    "np.unique(true_actions,return_counts=True)"
   ]
  }
 ],
 "metadata": {
  "kernelspec": {
   "display_name": "Python 3",
   "language": "python",
   "name": "python3"
  },
  "language_info": {
   "codemirror_mode": {
    "name": "ipython",
    "version": 3
   },
   "file_extension": ".py",
   "mimetype": "text/x-python",
   "name": "python",
   "nbconvert_exporter": "python",
   "pygments_lexer": "ipython3",
   "version": "3.6.5"
  }
 },
 "nbformat": 4,
 "nbformat_minor": 2
}
