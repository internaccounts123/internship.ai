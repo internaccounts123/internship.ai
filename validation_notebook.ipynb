{
 "cells": [
  {
   "cell_type": "code",
   "execution_count": null,
   "metadata": {
    "scrolled": true
   },
   "outputs": [],
   "source": [
    "from Preprocessing.Preprocessor import Preprocessor\n",
    "from models.generic_model import Model\n",
    "from data_utils.keras_generator import Generator\n",
    "from sklearn.metrics import confusion_matrix\n",
    "from sklearn.metrics import f1_score\n",
    "from utils.losses import weighted_cross_entropy_loss, f1_score_metric\n",
    "from utils.callbacks import get_tensorboard_callback\n",
    "from keras import optimizers\n",
    "import os\n",
    "import pandas as pd\n",
    "import numpy as np\n"
   ]
  },
  {
   "cell_type": "code",
   "execution_count": null,
   "metadata": {},
   "outputs": [],
   "source": [
    "label_encoder_dir = \"Preprocessing\"\n",
    "val_data_dir = r'D:\\Val_Data'\n"
   ]
  },
  {
   "cell_type": "code",
   "execution_count": null,
   "metadata": {},
   "outputs": [],
   "source": [
    "val_files = os.listdir(val_data_dir)\n",
    "array = pd.read_hdf(os.path.join(val_data_dir, val_files[0]))\n",
    "P = Preprocessor(label_encoder_dir)\n",
    "array = P.process_batch(array)\n",
    "action_col = array.columns == 'action'\n",
    "g_config = {'labels': 6,\n",
    "            'weightage': [1, 1, 1, 1, 1, 1],\n",
    "            'data_directory': val_data_dir,\n",
    "            'file_batch_size': 50,\n",
    "            'format_': 'h5',\n",
    "            'ex_batch_size': 10000,\n",
    "            'file_examples': 5000,\n",
    "            'max_queue_size': 1,\n",
    "            'Preprocessor': P,\n",
    "            'static_weightage': False,\n",
    "            'action_col': action_col}\n",
    "\n",
    "G = Generator(config=g_config)\n"
   ]
  },
  {
   "cell_type": "code",
   "execution_count": null,
   "metadata": {},
   "outputs": [],
   "source": [
    "nn_config = {'layer_shapes': [500, 500, 500], 'Activation': 'relu', 'Output': 6,\n",
    "             'Input_shape': 472, 'model_type': 'fc'}\n",
    "my_model = Model(nn_config) \n",
    "f1 = f1_score_metric(6)\n",
    "my_model.model.compile(loss=weighted_cross_entropy_loss, optimizer=optimizers.Adam(lr=5e-4), metrics=[\"acc\", f1])\n"
   ]
  },
  {
   "cell_type": "code",
   "execution_count": null,
   "metadata": {},
   "outputs": [],
   "source": [
    "G.fill_buffer()\n"
   ]
  },
  {
   "cell_type": "code",
   "execution_count": null,
   "metadata": {},
   "outputs": [],
   "source": [
    "my_model.model.load_weights(r'E:\\Weights.h5')\n"
   ]
  },
  {
   "cell_type": "code",
   "execution_count": null,
   "metadata": {},
   "outputs": [],
   "source": [
    "true_actions = []\n",
    "pred_actions = []\n",
    "for i in range(len(G)):\n",
    "    data, actions = G[i]\n",
    "    true_actions.extend(np.argmax(actions, axis=1))\n",
    "    pred_actions.extend(np.argmax(my_model.model.predict(data), axis=1))\n",
    "    \n",
    "confusion_matrix(true_actions, pred_actions)\n"
   ]
  },
  {
   "cell_type": "code",
   "execution_count": null,
   "metadata": {},
   "outputs": [],
   "source": [
    "print(f1_score(true_actions, pred_actions, average='micro'))\n",
    "print(f1_score(true_actions, pred_actions, average='macro'))\n",
    "print(f1_score(true_actions, pred_actions, average='weighted'))\n"
   ]
  },
  {
   "cell_type": "code",
   "execution_count": null,
   "metadata": {},
   "outputs": [],
   "source": [
    "np.unique(true_actions,return_counts=True)\n"
   ]
  },
  {
   "cell_type": "code",
   "execution_count": null,
   "metadata": {},
   "outputs": [],
   "source": [
    "my_model.model.fit_generator(generator=G, steps_per_epoch=len(G), epochs=10, verbose=1, max_queue_size=3)\n"
   ]
  }
 ],
 "metadata": {
  "kernelspec": {
   "display_name": "Python 3",
   "language": "python",
   "name": "python3"
  },
  "language_info": {
   "codemirror_mode": {
    "name": "ipython",
    "version": 3
   },
   "file_extension": ".py",
   "mimetype": "text/x-python",
   "name": "python",
   "nbconvert_exporter": "python",
   "pygments_lexer": "ipython3",
   "version": "3.6.2"
  }
 },
 "nbformat": 4,
 "nbformat_minor": 2
}
